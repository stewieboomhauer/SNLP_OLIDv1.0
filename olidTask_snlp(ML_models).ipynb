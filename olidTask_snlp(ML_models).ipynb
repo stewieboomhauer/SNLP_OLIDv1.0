{
 "cells": [
  {
   "cell_type": "code",
   "execution_count": null,
   "metadata": {},
   "outputs": [],
   "source": [
    "!pip install vaderSentiment\n",
    "!pip install textstat"
   ]
  },
  {
   "cell_type": "code",
   "execution_count": 2,
   "metadata": {
    "colab": {
     "base_uri": "https://localhost:8080/"
    },
    "id": "2s5c91PsEQCA",
    "outputId": "61b36f88-16df-4a3f-c411-d415792e5195"
   },
   "outputs": [
    {
     "name": "stderr",
     "output_type": "stream",
     "text": [
      "[nltk_data] Downloading package stopwords to\n",
      "[nltk_data]     C:\\Users\\stewi_000\\AppData\\Roaming\\nltk_data...\n",
      "[nltk_data]   Package stopwords is already up-to-date!\n",
      "[nltk_data] Downloading package averaged_perceptron_tagger to\n",
      "[nltk_data]     C:\\Users\\stewi_000\\AppData\\Roaming\\nltk_data...\n",
      "[nltk_data]   Package averaged_perceptron_tagger is already up-to-\n",
      "[nltk_data]       date!\n",
      "[nltk_data] Downloading package punkt to\n",
      "[nltk_data]     C:\\Users\\stewi_000\\AppData\\Roaming\\nltk_data...\n",
      "[nltk_data]   Package punkt is already up-to-date!\n",
      "[nltk_data] Downloading package vader_lexicon to\n",
      "[nltk_data]     C:\\Users\\stewi_000\\AppData\\Roaming\\nltk_data...\n",
      "[nltk_data]   Package vader_lexicon is already up-to-date!\n"
     ]
    }
   ],
   "source": [
    "import pandas as pd\n",
    "from pandas import DataFrame\n",
    "import numpy as np\n",
    "import sys\n",
    "import re\n",
    "import os\n",
    "from collections import Counter\n",
    "from textstat.textstat import *\n",
    "\n",
    "\n",
    "import nltk\n",
    "nltk.download('stopwords')\n",
    "nltk.download('punkt')\n",
    "nltk.download('vader_lexicon')\n",
    "from nltk.corpus import stopwords\n",
    "from nltk.stem.porter import *\n",
    "from nltk.sentiment.vader import SentimentIntensityAnalyzer\n",
    "\n",
    "import sklearn as sk\n",
    "from sklearn.feature_extraction.text import CountVectorizer\n",
    "from sklearn.feature_extraction.text import TfidfVectorizer\n",
    "from sklearn.model_selection import train_test_split\n",
    "from sklearn.neural_network import MLPClassifier\n",
    "from sklearn.linear_model import LogisticRegression\n",
    "from sklearn.ensemble import RandomForestClassifier\n",
    "from sklearn.neighbors import KNeighborsClassifier\n",
    "from sklearn.metrics import classification_report\n",
    "from sklearn.metrics import f1_score, accuracy_score\n",
    "from sklearn.metrics import plot_confusion_matrix\n",
    "from sklearn.metrics import confusion_matrix\n",
    "from sklearn.model_selection import StratifiedKFold, GridSearchCV\n",
    "#from sklearn.pipeline import Pipeline\n",
    "import matplotlib.pylab as plt\n",
    "%matplotlib inline\n"
   ]
  },
  {
   "cell_type": "markdown",
   "metadata": {
    "id": "jEKsBtiR1x3u"
   },
   "source": [
    "-------------------------------------------------------\n",
    "# **1. Loading Data**\n",
    "-------------------------------------------------------\n"
   ]
  },
  {
   "cell_type": "code",
   "execution_count": 4,
   "metadata": {
    "id": "r4xWKf33fTzx"
   },
   "outputs": [],
   "source": [
    "dfs = pd.read_csv('C:/Users/stewi_000/Desktop/UNI/Computerlinguistik/SS 20/SNLP/SNLP-OLID Project/OLIDv1.0/olid-training-v1.0.tsv', sep='\\t', encoding = 'utf-8')"
   ]
  },
  {
   "cell_type": "markdown",
   "metadata": {
    "id": "IjetJ4GkLaWR"
   },
   "source": [
    "# **2. Preprocessing**"
   ]
  },
  {
   "cell_type": "markdown",
   "metadata": {
    "id": "4A226rUbLERs"
   },
   "source": [
    "## **2.1 Automatic Sentiment Analyses of Tweets**"
   ]
  },
  {
   "cell_type": "code",
   "execution_count": 5,
   "metadata": {
    "colab": {
     "base_uri": "https://localhost:8080/",
     "height": 407
    },
    "id": "M2L6cqQAK_wS",
    "outputId": "df6e3b1a-9173-4864-9353-62fa7d0cc2c3"
   },
   "outputs": [
    {
     "data": {
      "text/html": [
       "<div>\n",
       "<style scoped>\n",
       "    .dataframe tbody tr th:only-of-type {\n",
       "        vertical-align: middle;\n",
       "    }\n",
       "\n",
       "    .dataframe tbody tr th {\n",
       "        vertical-align: top;\n",
       "    }\n",
       "\n",
       "    .dataframe thead th {\n",
       "        text-align: right;\n",
       "    }\n",
       "</style>\n",
       "<table border=\"1\" class=\"dataframe\">\n",
       "  <thead>\n",
       "    <tr style=\"text-align: right;\">\n",
       "      <th></th>\n",
       "      <th>id</th>\n",
       "      <th>tweet</th>\n",
       "      <th>subtask_a</th>\n",
       "      <th>subtask_b</th>\n",
       "      <th>subtask_c</th>\n",
       "      <th>neg</th>\n",
       "      <th>neu</th>\n",
       "      <th>pos</th>\n",
       "      <th>compound</th>\n",
       "    </tr>\n",
       "  </thead>\n",
       "  <tbody>\n",
       "    <tr>\n",
       "      <th>0</th>\n",
       "      <td>86426</td>\n",
       "      <td>@USER She should ask a few native Americans wh...</td>\n",
       "      <td>OFF</td>\n",
       "      <td>UNT</td>\n",
       "      <td>NaN</td>\n",
       "      <td>0.000</td>\n",
       "      <td>1.000</td>\n",
       "      <td>0.000</td>\n",
       "      <td>0.0000</td>\n",
       "    </tr>\n",
       "    <tr>\n",
       "      <th>1</th>\n",
       "      <td>90194</td>\n",
       "      <td>@USER @USER Go home you’re drunk!!! @USER #MAG...</td>\n",
       "      <td>OFF</td>\n",
       "      <td>TIN</td>\n",
       "      <td>IND</td>\n",
       "      <td>0.247</td>\n",
       "      <td>0.753</td>\n",
       "      <td>0.000</td>\n",
       "      <td>-0.5067</td>\n",
       "    </tr>\n",
       "    <tr>\n",
       "      <th>2</th>\n",
       "      <td>16820</td>\n",
       "      <td>Amazon is investigating Chinese employees who ...</td>\n",
       "      <td>NOT</td>\n",
       "      <td>NaN</td>\n",
       "      <td>NaN</td>\n",
       "      <td>0.000</td>\n",
       "      <td>0.880</td>\n",
       "      <td>0.120</td>\n",
       "      <td>0.3400</td>\n",
       "    </tr>\n",
       "    <tr>\n",
       "      <th>3</th>\n",
       "      <td>62688</td>\n",
       "      <td>@USER Someone should'veTaken\" this piece of sh...</td>\n",
       "      <td>OFF</td>\n",
       "      <td>UNT</td>\n",
       "      <td>NaN</td>\n",
       "      <td>0.286</td>\n",
       "      <td>0.714</td>\n",
       "      <td>0.000</td>\n",
       "      <td>-0.5574</td>\n",
       "    </tr>\n",
       "    <tr>\n",
       "      <th>4</th>\n",
       "      <td>43605</td>\n",
       "      <td>@USER @USER Obama wanted liberals &amp;amp; illega...</td>\n",
       "      <td>NOT</td>\n",
       "      <td>NaN</td>\n",
       "      <td>NaN</td>\n",
       "      <td>0.000</td>\n",
       "      <td>1.000</td>\n",
       "      <td>0.000</td>\n",
       "      <td>0.0000</td>\n",
       "    </tr>\n",
       "    <tr>\n",
       "      <th>...</th>\n",
       "      <td>...</td>\n",
       "      <td>...</td>\n",
       "      <td>...</td>\n",
       "      <td>...</td>\n",
       "      <td>...</td>\n",
       "      <td>...</td>\n",
       "      <td>...</td>\n",
       "      <td>...</td>\n",
       "      <td>...</td>\n",
       "    </tr>\n",
       "    <tr>\n",
       "      <th>13235</th>\n",
       "      <td>95338</td>\n",
       "      <td>@USER Sometimes I get strong vibes from people...</td>\n",
       "      <td>OFF</td>\n",
       "      <td>TIN</td>\n",
       "      <td>IND</td>\n",
       "      <td>0.241</td>\n",
       "      <td>0.652</td>\n",
       "      <td>0.108</td>\n",
       "      <td>-0.6240</td>\n",
       "    </tr>\n",
       "    <tr>\n",
       "      <th>13236</th>\n",
       "      <td>67210</td>\n",
       "      <td>Benidorm ✅  Creamfields ✅  Maga ✅   Not too sh...</td>\n",
       "      <td>NOT</td>\n",
       "      <td>NaN</td>\n",
       "      <td>NaN</td>\n",
       "      <td>0.000</td>\n",
       "      <td>1.000</td>\n",
       "      <td>0.000</td>\n",
       "      <td>0.0000</td>\n",
       "    </tr>\n",
       "    <tr>\n",
       "      <th>13237</th>\n",
       "      <td>82921</td>\n",
       "      <td>@USER And why report this garbage.  We don't g...</td>\n",
       "      <td>OFF</td>\n",
       "      <td>TIN</td>\n",
       "      <td>OTH</td>\n",
       "      <td>0.000</td>\n",
       "      <td>0.805</td>\n",
       "      <td>0.195</td>\n",
       "      <td>0.2924</td>\n",
       "    </tr>\n",
       "    <tr>\n",
       "      <th>13238</th>\n",
       "      <td>27429</td>\n",
       "      <td>@USER Pussy</td>\n",
       "      <td>OFF</td>\n",
       "      <td>UNT</td>\n",
       "      <td>NaN</td>\n",
       "      <td>0.000</td>\n",
       "      <td>1.000</td>\n",
       "      <td>0.000</td>\n",
       "      <td>0.0000</td>\n",
       "    </tr>\n",
       "    <tr>\n",
       "      <th>13239</th>\n",
       "      <td>46552</td>\n",
       "      <td>#Spanishrevenge vs. #justice #HumanRights and ...</td>\n",
       "      <td>NOT</td>\n",
       "      <td>NaN</td>\n",
       "      <td>NaN</td>\n",
       "      <td>0.000</td>\n",
       "      <td>1.000</td>\n",
       "      <td>0.000</td>\n",
       "      <td>0.0000</td>\n",
       "    </tr>\n",
       "  </tbody>\n",
       "</table>\n",
       "<p>13240 rows × 9 columns</p>\n",
       "</div>"
      ],
      "text/plain": [
       "          id                                              tweet subtask_a  \\\n",
       "0      86426  @USER She should ask a few native Americans wh...       OFF   \n",
       "1      90194  @USER @USER Go home you’re drunk!!! @USER #MAG...       OFF   \n",
       "2      16820  Amazon is investigating Chinese employees who ...       NOT   \n",
       "3      62688  @USER Someone should'veTaken\" this piece of sh...       OFF   \n",
       "4      43605  @USER @USER Obama wanted liberals &amp; illega...       NOT   \n",
       "...      ...                                                ...       ...   \n",
       "13235  95338  @USER Sometimes I get strong vibes from people...       OFF   \n",
       "13236  67210  Benidorm ✅  Creamfields ✅  Maga ✅   Not too sh...       NOT   \n",
       "13237  82921  @USER And why report this garbage.  We don't g...       OFF   \n",
       "13238  27429                                        @USER Pussy       OFF   \n",
       "13239  46552  #Spanishrevenge vs. #justice #HumanRights and ...       NOT   \n",
       "\n",
       "      subtask_b subtask_c    neg    neu    pos  compound  \n",
       "0           UNT       NaN  0.000  1.000  0.000    0.0000  \n",
       "1           TIN       IND  0.247  0.753  0.000   -0.5067  \n",
       "2           NaN       NaN  0.000  0.880  0.120    0.3400  \n",
       "3           UNT       NaN  0.286  0.714  0.000   -0.5574  \n",
       "4           NaN       NaN  0.000  1.000  0.000    0.0000  \n",
       "...         ...       ...    ...    ...    ...       ...  \n",
       "13235       TIN       IND  0.241  0.652  0.108   -0.6240  \n",
       "13236       NaN       NaN  0.000  1.000  0.000    0.0000  \n",
       "13237       TIN       OTH  0.000  0.805  0.195    0.2924  \n",
       "13238       UNT       NaN  0.000  1.000  0.000    0.0000  \n",
       "13239       NaN       NaN  0.000  1.000  0.000    0.0000  \n",
       "\n",
       "[13240 rows x 9 columns]"
      ]
     },
     "execution_count": 5,
     "metadata": {},
     "output_type": "execute_result"
    }
   ],
   "source": [
    "analyzer = SentimentIntensityAnalyzer()\n",
    "\n",
    "dfs['neg'] = dfs['tweet'].apply(lambda x:analyzer.polarity_scores(x)['neg'])\n",
    "dfs['neu'] = dfs['tweet'].apply(lambda x:analyzer.polarity_scores(x)['neu'])\n",
    "dfs['pos'] = dfs['tweet'].apply(lambda x:analyzer.polarity_scores(x)['pos'])\n",
    "dfs['compound'] = dfs['tweet'].apply(lambda x:analyzer.polarity_scores(x)['compound'])\n",
    "dfs"
   ]
  },
  {
   "cell_type": "markdown",
   "metadata": {
    "id": "y-QcwvnYVYOl"
   },
   "source": [
    "## **2.2 Tokens Distribution**"
   ]
  },
  {
   "cell_type": "code",
   "execution_count": 6,
   "metadata": {
    "id": "hZZpC8US68X1"
   },
   "outputs": [],
   "source": [
    "all_tweets =dfs[\"tweet\"]\n"
   ]
  },
  {
   "cell_type": "code",
   "execution_count": 7,
   "metadata": {
    "id": "d_xINQsb82yT"
   },
   "outputs": [],
   "source": [
    "count = 0\n",
    "num_token_inSentence = []\n",
    "for sent in all_tweets:\n",
    "  count = count+1\n",
    "  word_list = len(sent.split())\n",
    "  num_token_inSentence.append(word_list)"
   ]
  },
  {
   "cell_type": "code",
   "execution_count": 8,
   "metadata": {
    "colab": {
     "base_uri": "https://localhost:8080/"
    },
    "id": "kJ-UHL09-eLx",
    "outputId": "beadd7b9-dc41-4f96-c5c9-07be2431aec9"
   },
   "outputs": [
    {
     "name": "stdout",
     "output_type": "stream",
     "text": [
      "22.307703927492447\n"
     ]
    }
   ],
   "source": [
    "avg_tokens =sum(num_token_inSentence)/count\n",
    "print(avg_tokens)"
   ]
  },
  {
   "cell_type": "code",
   "execution_count": 9,
   "metadata": {
    "id": "SCHbQVvQAFOy"
   },
   "outputs": [],
   "source": [
    "dfs[\"tokens\"] = dfs[\"tweet\"].map(lambda text: re.sub(r\"[^a-zA-Z0-9' ]\", ' ', text)).map(lambda text: text.split())"
   ]
  },
  {
   "cell_type": "code",
   "execution_count": 10,
   "metadata": {
    "id": "KeIb6eJrAzLj"
   },
   "outputs": [],
   "source": [
    "num = dfs.shape[0]"
   ]
  },
  {
   "cell_type": "code",
   "execution_count": 11,
   "metadata": {
    "colab": {
     "base_uri": "https://localhost:8080/",
     "height": 225
    },
    "id": "M4BBQwsjAPpQ",
    "outputId": "ba60fe05-e701-4063-83d7-c8a5d6dc18e6"
   },
   "outputs": [
    {
     "data": {
      "image/png": "[encoded data removed]",
      "text/plain": [
       "<Figure size 288x216 with 1 Axes>"
      ]
     },
     "metadata": {
      "needs_background": "light"
     },
     "output_type": "display_data"
    }
   ],
   "source": [
    "dfs[\"num_tokens\"] = dfs[\"tokens\"].map(len)\n",
    "ax = dfs[\"num_tokens\"].hist(bins=20, \n",
    "                                 figsize=(4,3),\n",
    "                                 weights=np.ones(num)/num)\n",
    "ax.set_xlabel(\"Number of Tokens\")\n",
    "ax.set_ylabel(\"Ratio\")\n",
    "plt.show()"
   ]
  },
  {
   "cell_type": "code",
   "execution_count": 12,
   "metadata": {
    "id": "orBlmJFsBeic"
   },
   "outputs": [],
   "source": [
    "# Write DataFrame to CSV File with Default params.\n",
    "dfs.to_csv('C:/Users/stewi_000/Desktop/UNI/Computerlinguistik/SS 20/SNLP/SNLP-OLID Project/Automatic_Sentiment_Analyses_of_Tweets.csv')"
   ]
  },
  {
   "cell_type": "markdown",
   "metadata": {
    "id": "RDM3ja54LiaE"
   },
   "source": [
    "## **2.3 Creating Dataframe**"
   ]
  },
  {
   "cell_type": "code",
   "execution_count": 13,
   "metadata": {
    "colab": {
     "base_uri": "https://localhost:8080/"
    },
    "id": "ElwYQWxMWPex",
    "outputId": "b38d5e75-710d-48c1-9fe5-54dde217d337"
   },
   "outputs": [],
   "source": [
    "tweets_list = dfs['tweet'].to_list()\n",
    "tweets_to_string = []\n",
    "\n",
    "for elem in tweets_list:\n",
    "    string = ''.join(elem)\n",
    "    tweets_to_string.append(string)\n",
    "    "
   ]
  },
  {
   "cell_type": "code",
   "execution_count": 14,
   "metadata": {
    "colab": {
     "base_uri": "https://localhost:8080/",
     "height": 287
    },
    "id": "Ri67RuP9rquT",
    "outputId": "026daba2-afe3-4660-8e4a-0d5423ab5fa9"
   },
   "outputs": [
    {
     "data": {
      "text/html": [
       "<div>\n",
       "<style scoped>\n",
       "    .dataframe tbody tr th:only-of-type {\n",
       "        vertical-align: middle;\n",
       "    }\n",
       "\n",
       "    .dataframe tbody tr th {\n",
       "        vertical-align: top;\n",
       "    }\n",
       "\n",
       "    .dataframe thead th {\n",
       "        text-align: right;\n",
       "    }\n",
       "</style>\n",
       "<table border=\"1\" class=\"dataframe\">\n",
       "  <thead>\n",
       "    <tr style=\"text-align: right;\">\n",
       "      <th></th>\n",
       "      <th>id</th>\n",
       "      <th>neg</th>\n",
       "      <th>neu</th>\n",
       "      <th>pos</th>\n",
       "      <th>compound</th>\n",
       "      <th>num_tokens</th>\n",
       "    </tr>\n",
       "  </thead>\n",
       "  <tbody>\n",
       "    <tr>\n",
       "      <th>count</th>\n",
       "      <td>13240.000000</td>\n",
       "      <td>13240.000000</td>\n",
       "      <td>13240.000000</td>\n",
       "      <td>13240.000000</td>\n",
       "      <td>13240.000000</td>\n",
       "      <td>13240.000000</td>\n",
       "    </tr>\n",
       "    <tr>\n",
       "      <th>mean</th>\n",
       "      <td>54881.766163</td>\n",
       "      <td>0.120217</td>\n",
       "      <td>0.769305</td>\n",
       "      <td>0.110480</td>\n",
       "      <td>-0.038840</td>\n",
       "      <td>22.474924</td>\n",
       "    </tr>\n",
       "    <tr>\n",
       "      <th>std</th>\n",
       "      <td>26092.681658</td>\n",
       "      <td>0.144467</td>\n",
       "      <td>0.173044</td>\n",
       "      <td>0.139423</td>\n",
       "      <td>0.513623</td>\n",
       "      <td>15.315337</td>\n",
       "    </tr>\n",
       "    <tr>\n",
       "      <th>min</th>\n",
       "      <td>10006.000000</td>\n",
       "      <td>0.000000</td>\n",
       "      <td>0.105000</td>\n",
       "      <td>0.000000</td>\n",
       "      <td>-0.986000</td>\n",
       "      <td>2.000000</td>\n",
       "    </tr>\n",
       "    <tr>\n",
       "      <th>25%</th>\n",
       "      <td>32235.750000</td>\n",
       "      <td>0.000000</td>\n",
       "      <td>0.657000</td>\n",
       "      <td>0.000000</td>\n",
       "      <td>-0.476700</td>\n",
       "      <td>10.000000</td>\n",
       "    </tr>\n",
       "    <tr>\n",
       "      <th>50%</th>\n",
       "      <td>54852.000000</td>\n",
       "      <td>0.077000</td>\n",
       "      <td>0.773500</td>\n",
       "      <td>0.065000</td>\n",
       "      <td>0.000000</td>\n",
       "      <td>18.000000</td>\n",
       "    </tr>\n",
       "    <tr>\n",
       "      <th>75%</th>\n",
       "      <td>77743.250000</td>\n",
       "      <td>0.202000</td>\n",
       "      <td>0.904000</td>\n",
       "      <td>0.179000</td>\n",
       "      <td>0.401900</td>\n",
       "      <td>32.000000</td>\n",
       "    </tr>\n",
       "    <tr>\n",
       "      <th>max</th>\n",
       "      <td>99986.000000</td>\n",
       "      <td>0.885000</td>\n",
       "      <td>1.000000</td>\n",
       "      <td>0.855000</td>\n",
       "      <td>0.986100</td>\n",
       "      <td>105.000000</td>\n",
       "    </tr>\n",
       "  </tbody>\n",
       "</table>\n",
       "</div>"
      ],
      "text/plain": [
       "                 id           neg           neu           pos      compound  \\\n",
       "count  13240.000000  13240.000000  13240.000000  13240.000000  13240.000000   \n",
       "mean   54881.766163      0.120217      0.769305      0.110480     -0.038840   \n",
       "std    26092.681658      0.144467      0.173044      0.139423      0.513623   \n",
       "min    10006.000000      0.000000      0.105000      0.000000     -0.986000   \n",
       "25%    32235.750000      0.000000      0.657000      0.000000     -0.476700   \n",
       "50%    54852.000000      0.077000      0.773500      0.065000      0.000000   \n",
       "75%    77743.250000      0.202000      0.904000      0.179000      0.401900   \n",
       "max    99986.000000      0.885000      1.000000      0.855000      0.986100   \n",
       "\n",
       "         num_tokens  \n",
       "count  13240.000000  \n",
       "mean      22.474924  \n",
       "std       15.315337  \n",
       "min        2.000000  \n",
       "25%       10.000000  \n",
       "50%       18.000000  \n",
       "75%       32.000000  \n",
       "max      105.000000  "
      ]
     },
     "execution_count": 14,
     "metadata": {},
     "output_type": "execute_result"
    }
   ],
   "source": [
    "dfs.describe()"
   ]
  },
  {
   "cell_type": "code",
   "execution_count": 15,
   "metadata": {
    "id": "qHdG5TlqoBTk"
   },
   "outputs": [],
   "source": [
    "tweets = dfs[\"tweet\"].copy()"
   ]
  },
  {
   "cell_type": "markdown",
   "metadata": {
    "id": "Qyk9dkf4IoQa"
   },
   "source": [
    "# **3. Methods**"
   ]
  },
  {
   "cell_type": "markdown",
   "metadata": {
    "id": "t7VvlX3C2-Nw"
   },
   "source": [
    "------------------------------------------\n",
    "## **3.1. Feature Engineering**\n",
    "\n",
    "**Vectorization**\n",
    "\n",
    "The following settings for vectorization were used:\n",
    "\n",
    "\n",
    "\n",
    "*   Word representation: TFIDFVectorizer;\n",
    "*   N-grams: unigram & bigram & trigram;\n",
    "*   Convert to lowercase;\n",
    "*   Try binary counter;\n",
    "*   Use stop words;\n",
    "\n",
    "------------------------------------------"
   ]
  },
  {
   "cell_type": "markdown",
   "metadata": {
    "id": "vhXuovOJMB5l"
   },
   "source": [
    "### **3.1.1 Creating List with \"Stopwords\"**"
   ]
  },
  {
   "cell_type": "code",
   "execution_count": 16,
   "metadata": {
    "colab": {
     "base_uri": "https://localhost:8080/"
    },
    "id": "oOeTkDgGL2o7",
    "outputId": "55e9df14-fb5a-4914-e71e-beab68639a2b"
   },
   "outputs": [
    {
     "name": "stdout",
     "output_type": "stream",
     "text": [
      "['user', 'the', 'is', 'to', 'a', 'and', 'you', 'of', 'are', 'i', 'he', 'in', 'that', 'for', 'she', 'it', 'this', 'on', 'not', 'urluser', 'they', 'with', 'have', 'be', 'gun', 'liberals', 'so', 'all', 'your', 'like', 'what', 'control', 'as', 'but', 'antifa', 'we', 'about', 'just', 'was', 'her', 'if', 'will', 'dont', 'do', 'who', 'its', 'conservatives', 'people', 'no', 'his', 'maga', 'at', 'my', 'by', 'from', 'or', 'how', 'has', 'an', 'their', 'out', 'get', 'can', 'up', 'amp', 'know', 'me', 'one', 'why', 'when', 'because', 'more', 'trump', 'think', 'him', 'would', 'now', 'im', 'should', 'them', 'there', 'our', 'good', 'only', 'right', 'thats', 'us', 'want', 'go', 'were', 'than', 'need', 'see', 'going', 'time', 'never', 'url', 'been', 'being', 'these']\n"
     ]
    }
   ],
   "source": [
    "\n",
    "#Tokenize tweets in order to count words\n",
    "s = ''.join(tweets_to_string)\n",
    "#get rid of punctuation\n",
    "sentence = re.sub(r'[^\\w\\s]','',s.lower())\n",
    "tokens = nltk.word_tokenize(sentence)\n",
    "\n",
    "#Tokens Distribution (word occurrences)\n",
    "occurrences = Counter(tokens).most_common(100)\n",
    "dictOftokens = dict(occurrences)\n",
    "\n",
    "#Tokens with occurrences more than 1000\n",
    "most_common_tokens = []\n",
    "for k,v in dictOftokens.items():\n",
    "  most_common_tokens.append(k)\n",
    "\n",
    "#Get most common tokens to add them to stopwords\n",
    "print(most_common_tokens) "
   ]
  },
  {
   "cell_type": "markdown",
   "metadata": {
    "id": "6IG8sc578Lst"
   },
   "source": [
    "### **3.1.2 Preprocess Methods**"
   ]
  },
  {
   "cell_type": "code",
   "execution_count": 17,
   "metadata": {
    "id": "hoPDgctAP0Jz"
   },
   "outputs": [],
   "source": [
    "#Creating a list with stopwords\n",
    "stopwords=stopwords = nltk.corpus.stopwords.words(\"english\")\n",
    "stopwords.extend(most_common_tokens)\n",
    "stopwords = list(set(stopwords))"
   ]
  },
  {
   "cell_type": "code",
   "execution_count": 18,
   "metadata": {
    "id": "tfElrM0_n3Ai"
   },
   "outputs": [],
   "source": [
    "\n",
    "#Add preprocess Method\n",
    "def preprocess(text_string):\n",
    "    \"\"\"\n",
    "    Accepts a text string and replaces:\n",
    "    1) urls with URLHERE\n",
    "    2) lots of whitespace with one instance\n",
    "    3) mentions with MENTIONHERE\n",
    "\n",
    "    This allows us to get standardized counts of urls and mentions\n",
    "    Without caring about specific people mentioned\n",
    "    \"\"\"\n",
    "    space_pattern = '\\s+'\n",
    "    giant_url_regex = ('http[s]?://(?:[a-zA-Z]|[0-9]|[$-_@.&+]|'\n",
    "        '[!*\\(\\),]|(?:%[0-9a-fA-F][0-9a-fA-F]))+')\n",
    "    mention_regex = '@[\\w\\-]+'\n",
    "    parsed_text = re.sub(space_pattern, ' ', text_string)\n",
    "    parsed_text = re.sub(giant_url_regex, '', parsed_text)\n",
    "    parsed_text = re.sub(mention_regex, '', parsed_text)\n",
    "    return parsed_text\n",
    "\n",
    "#Add method to get rid of Emojis\n",
    "def remove_emoji(string):\n",
    "    emoji_pattern = re.compile(\"[\"\n",
    "                               u\"\\U0001F600-\\U0001F64F\"  # emoticons\n",
    "                               u\"\\U0001F300-\\U0001F5FF\"  # symbols & pictographs\n",
    "                               u\"\\U0001F680-\\U0001F6FF\"  # transport & map symbols\n",
    "                               u\"\\U0001F1E0-\\U0001F1FF\"  # flags (iOS)\n",
    "                               u\"\\U00002500-\\U00002BEF\"  # chinese char\n",
    "                               u\"\\U00002702-\\U000027B0\"\n",
    "                               u\"\\U00002702-\\U000027B0\"\n",
    "                               u\"\\U000024C2-\\U0001F251\"\n",
    "                               u\"\\U0001f926-\\U0001f937\"\n",
    "                               u\"\\U00010000-\\U0010ffff\"\n",
    "                               u\"\\u2640-\\u2642\"\n",
    "                               u\"\\u2600-\\u2B55\"\n",
    "                               u\"\\u200d\"\n",
    "                               u\"\\u23cf\"\n",
    "                               u\"\\u23e9\"\n",
    "                               u\"\\u231a\"\n",
    "                               u\"\\ufe0f\"  # dingbats\n",
    "                               u\"\\u3030\"\n",
    "                               \"]+\", flags=re.UNICODE)\n",
    "    return emoji_pattern.sub(r'', string)\n",
    "\n",
    "counter = CountVectorizer()\n",
    "data1 = counter.fit_transform(tweets)\n",
    "count = pd.DataFrame(data = data1.toarray(), columns = counter.get_feature_names())\n",
    "unique_words = count.columns[count.sum(axis = 0) == 1]\n",
    "\n",
    "#Add method to ged rid of unique words\n",
    "def kick_the_word(s):\n",
    "    p = re.compile(r\"\\w+(?:'\\w+)*|[^\\w\\s]\")\n",
    "    b = p.findall(s)\n",
    "    for word in b:\n",
    "        if word in unique_words:\n",
    "            s = s.replace(word, '')\n",
    "    return s\n"
   ]
  },
  {
   "cell_type": "code",
   "execution_count": 19,
   "metadata": {
    "colab": {
     "base_uri": "https://localhost:8080/"
    },
    "id": "DLN2Twn98Tgn",
    "outputId": "a2689013-9799-4ac4-ee96-cb586ead7914"
   },
   "outputs": [
    {
     "data": {
      "text/plain": [
       "13240"
      ]
     },
     "execution_count": 19,
     "metadata": {},
     "output_type": "execute_result"
    }
   ],
   "source": [
    "len(tweets)"
   ]
  },
  {
   "cell_type": "code",
   "execution_count": 20,
   "metadata": {
    "id": "8lBvDkwmNJ3d"
   },
   "outputs": [
    {
     "name": "stderr",
     "output_type": "stream",
     "text": [
      "<ipython-input-20-1058575585fc>:5: FutureWarning: The default value of regex will change from True to False in a future version.\n",
      "  tweets = tweets.str.replace('[^\\w\\s]','')\n"
     ]
    }
   ],
   "source": [
    "#Application of methods\n",
    "tweets = tweets.apply(lambda x: x.replace('#USER#', '').lower())\n",
    "tweets = tweets.apply(remove_emoji)\n",
    "tweets = tweets.apply(kick_the_word)\n",
    "tweets = tweets.str.replace('[^\\w\\s]','')"
   ]
  },
  {
   "cell_type": "markdown",
   "metadata": {
    "id": "KY8pdTiqFXft"
   },
   "source": [
    "## **3.2 N-gram Method**"
   ]
  },
  {
   "cell_type": "markdown",
   "metadata": {
    "id": "kKx3b3A-GNvI"
   },
   "source": [
    "### **3.2.1 Word N-gram Vectorizer**"
   ]
  },
  {
   "cell_type": "code",
   "execution_count": 21,
   "metadata": {
    "id": "pRubp_KDnjNX"
   },
   "outputs": [],
   "source": [
    "tfidf_word = TfidfVectorizer(\n",
    "    analyzer='word',\n",
    "    stop_words=stopwords,\n",
    "    preprocessor=preprocess,\n",
    "    ngram_range=(1, 3),\n",
    "    use_idf=True,\n",
    "    smooth_idf=False,\n",
    "    norm=None,\n",
    "    decode_error='replace',\n",
    "    max_features=15000,\n",
    "    min_df=5,\n",
    "    max_df=0.75)"
   ]
  },
  {
   "cell_type": "code",
   "execution_count": 22,
   "metadata": {
    "id": "6Vx60AuKogSe"
   },
   "outputs": [],
   "source": [
    "#Construct tfidf matrix and get relevant scores\n",
    "tfidf_words =tfidf_word.fit_transform(tweets).toarray()\n",
    "vocab_words = {v:i for i, v in enumerate(tfidf_word.get_feature_names())}\n",
    "idf_vals = tfidf_word.idf_\n",
    "idf_dict = {i:idf_vals[i] for i in vocab_words.values()} #keys are indices; values are IDF scores\n"
   ]
  },
  {
   "cell_type": "markdown",
   "metadata": {
    "id": "4EgIMZ6qGhxr"
   },
   "source": [
    "### **3.2.2 Char N-gram Vectorizer**"
   ]
  },
  {
   "cell_type": "code",
   "execution_count": 23,
   "metadata": {
    "id": "mktohBFWGnqG"
   },
   "outputs": [],
   "source": [
    "tfidf_char = TfidfVectorizer(\n",
    "    analyzer='char',\n",
    "    stop_words=stopwords,\n",
    "    preprocessor=preprocess,\n",
    "    ngram_range=(2, 6),\n",
    "    use_idf=True,\n",
    "    smooth_idf=False,\n",
    "    norm=None,\n",
    "    decode_error='replace',\n",
    "    max_features=15000,\n",
    "    min_df=5,\n",
    "    max_df=0.75)"
   ]
  },
  {
   "cell_type": "code",
   "execution_count": 24,
   "metadata": {
    "id": "fgaNNYf3Gu7x"
   },
   "outputs": [],
   "source": [
    "#Construct tfidf matrix and get relevant scores\n",
    "tfidf_chars =tfidf_char.fit_transform(tweets).toarray()\n",
    "vocab_chars = {v:i for i, v in enumerate(tfidf_char.get_feature_names())}\n",
    "idf_vals = tfidf_char.idf_\n",
    "idf_dict = {i:idf_vals[i] for i in vocab_chars.values()} #keys are indices; values are IDF scores\n"
   ]
  },
  {
   "cell_type": "markdown",
   "metadata": {
    "id": "yt9BMeZbNgbK"
   },
   "source": [
    "### **3.2.3 POS-TF-IDF Vectorizer**"
   ]
  },
  {
   "cell_type": "code",
   "execution_count": 25,
   "metadata": {
    "id": "BKbC1u6_4oH_"
   },
   "outputs": [],
   "source": [
    "#We can use the TFIDF vectorizer to get a token matrix for the POS tags\n",
    "pos_vectorizer = TfidfVectorizer(\n",
    "    tokenizer=None,\n",
    "    lowercase=False,\n",
    "    preprocessor=None,\n",
    "    ngram_range=(1, 3),\n",
    "    stop_words=None,\n",
    "    use_idf=False,\n",
    "    smooth_idf=False,\n",
    "    norm=None,\n",
    "    decode_error='replace',\n",
    "    max_features=15000,\n",
    "    min_df=5,\n",
    "    max_df=0.75,\n",
    "    )"
   ]
  },
  {
   "cell_type": "code",
   "execution_count": 26,
   "metadata": {
    "id": "TZwFPpxNNnag"
   },
   "outputs": [],
   "source": [
    "#Get POS tags for tweets and save as a string\n",
    "tweet_tags = []\n",
    "list_tokens = []\n",
    "for t in tweets:\n",
    "    sentence = re.sub(r'[^\\w\\s]','',t.lower())\n",
    "    tokens = nltk.word_tokenize(preprocess(sentence))\n",
    "    tags = nltk.pos_tag(tokens)\n",
    "    tag_list = [x[1] for x in tags]\n",
    "    tag_str = \" \".join(tag_list)\n",
    "    tweet_tags.append(tag_str)"
   ]
  },
  {
   "cell_type": "code",
   "execution_count": 27,
   "metadata": {
    "id": "W2xkferj4uct"
   },
   "outputs": [],
   "source": [
    "#Construct POS TF matrix and get vocab dict\n",
    "pos = pos_vectorizer.fit_transform(pd.Series(tweet_tags)).toarray()\n",
    "pos_vocab = {v:i for i, v in enumerate(pos_vectorizer.get_feature_names())}"
   ]
  },
  {
   "cell_type": "markdown",
   "metadata": {
    "id": "z4kxfC6N4ZIy"
   },
   "source": [
    "## **3.3 Splitting Datasets for Machine Learning Models**"
   ]
  },
  {
   "cell_type": "code",
   "execution_count": 28,
   "metadata": {
    "id": "H1VWSsJCqfbO"
   },
   "outputs": [],
   "source": [
    "ngramm_word = np.concatenate([tfidf_words,pos],axis=1)\n",
    "ngramm_char = np.concatenate([tfidf_chars, pos],axis=1)"
   ]
  },
  {
   "cell_type": "code",
   "execution_count": 29,
   "metadata": {
    "id": "ZTG_kKsu0Iy8"
   },
   "outputs": [],
   "source": [
    "#Get a list of variable names\n",
    "variables_words = ['']*len(vocab_words)\n",
    "for k,v in vocab_words.items():\n",
    "    variables_words[v] = k\n",
    "\n",
    "variables_chars = ['']*len(vocab_chars)\n",
    "for k,v in vocab_chars.items():\n",
    "    variables_chars[v] = k\n",
    "\n",
    "pos_variables = ['']*len(pos_vocab)\n",
    "for k,v in pos_vocab.items():\n",
    "    pos_variables[v] = k\n",
    "\n",
    "feature_names_words = variables_words+pos_variables\n",
    "feature_names_chars = variables_chars+pos_variables"
   ]
  },
  {
   "cell_type": "code",
   "execution_count": 30,
   "metadata": {
    "id": "Qf8YEAPUlaVH"
   },
   "outputs": [],
   "source": [
    "y_notoff = dfs[\"subtask_a\"]\n",
    "y = y_notoff.copy()\n",
    "for i in range(len(y)):\n",
    "    if y_notoff[i] == 'NOT':\n",
    "        y[i] = 1\n",
    "    else:\n",
    "        y[i] = 0\n",
    "y=y.astype('int')"
   ]
  },
  {
   "cell_type": "code",
   "execution_count": 31,
   "metadata": {
    "id": "6eOHBOUWq1c8"
   },
   "outputs": [],
   "source": [
    "X_word = pd.DataFrame(ngramm_word)\n",
    "X_char = pd.DataFrame(ngramm_char)"
   ]
  },
  {
   "cell_type": "code",
   "execution_count": 32,
   "metadata": {
    "id": "wBOHzB5ZOWB1"
   },
   "outputs": [],
   "source": [
    "X_train_word, X_test_word, y_train_word, y_test_word = train_test_split(X_word, y, test_size = 0.3, random_state = 42, shuffle=True)\n"
   ]
  },
  {
   "cell_type": "code",
   "execution_count": 33,
   "metadata": {
    "id": "oZGLk47zLZqI"
   },
   "outputs": [],
   "source": [
    "X_train_char, X_test_char, y_train_char, y_test_char = train_test_split(X_char, y, test_size = 0.3, random_state = 142, shuffle=True)\n"
   ]
  },
  {
   "cell_type": "markdown",
   "metadata": {
    "id": "vL5Fb7pN5Zr9"
   },
   "source": [
    "# **4. Machine Learning Models**"
   ]
  },
  {
   "cell_type": "markdown",
   "metadata": {
    "id": "Iq095_DZqd1J"
   },
   "source": [
    "# **4.1 Evaluation Metrics for Machine Learning Models**"
   ]
  },
  {
   "cell_type": "code",
   "execution_count": 34,
   "metadata": {
    "id": "GT-IJjbn390k"
   },
   "outputs": [],
   "source": [
    "def evaluate_model_Xy(model, X, y, y_pred=None, label=\"Training\", model_name=\"model\"):\n",
    "  if y_pred is None:\n",
    "    y_pred = model.predict(X)\n",
    "\n",
    "  print(label + ' Set')\n",
    "  print(\"Accuracy:\", accuracy_score(y, y_pred))\n",
    "  print()\n",
    "\n",
    "  print(classification_report(y, y_pred, digits=4))\n",
    "  disp = plot_confusion_matrix(model, X, y, \n",
    "                               cmap=plt.cm.Blues, normalize='true')\n",
    "  plt.savefig(model_name + \"_\" + label.lower() + \".png\")\n",
    "  plt.show()\n",
    "  print()"
   ]
  },
  {
   "cell_type": "code",
   "execution_count": 35,
   "metadata": {
    "id": "jbwrJRon3-CL"
   },
   "outputs": [],
   "source": [
    "def evaluate_model_ngrammWord(model, model_name=\"model\",\n",
    "                   y_train_pred=None, y_dev_pred=None, y_test_pred=None):\n",
    "  evaluate_model_Xy(model, X_train_word, y_train_word, label=\"Training\", model_name=model_name)\n",
    "  evaluate_model_Xy(model, X_test_word, y_test_word, label=\"Testing\", model_name=model_name)"
   ]
  },
  {
   "cell_type": "code",
   "execution_count": 36,
   "metadata": {
    "id": "jeZJiP8gK0lL"
   },
   "outputs": [],
   "source": [
    "def evaluate_model_ngrammChar(model, model_name=\"model\",\n",
    "                   y_train_pred=None, y_dev_pred=None, y_test_pred=None):\n",
    "  evaluate_model_Xy(model, X_train_char, y_train_char, label=\"Training\", model_name=model_name)\n",
    "  evaluate_model_Xy(model, X_test_char, y_test_char, label=\"Testing\", model_name=model_name)"
   ]
  },
  {
   "cell_type": "markdown",
   "metadata": {
    "id": "dMx5i0qp4oP6"
   },
   "source": [
    "### **4.2 LogisticRegression**"
   ]
  },
  {
   "cell_type": "code",
   "execution_count": 37,
   "metadata": {
    "id": "bQZoDSPUtEgz"
   },
   "outputs": [],
   "source": [
    "param_grid = [{}]"
   ]
  },
  {
   "cell_type": "code",
   "execution_count": 38,
   "metadata": {
    "id": "UwXXYnLoRI3M"
   },
   "outputs": [],
   "source": [
    "clf_lr = LogisticRegression(penalty='l2',\n",
    "                            tol=1e-4,\n",
    "                            C=5.0,\n",
    "                            fit_intercept=True,\n",
    "                            class_weight='balanced',\n",
    "                            random_state=0,\n",
    "                            solver='lbfgs',\n",
    "                            max_iter=100,\n",
    "                            multi_class='auto',\n",
    "                            verbose=1,\n",
    "                            n_jobs=-1)"
   ]
  },
  {
   "cell_type": "code",
   "execution_count": 39,
   "metadata": {
    "id": "w0yDoNPks55e"
   },
   "outputs": [],
   "source": [
    "grid_search_lr = GridSearchCV(clf_lr, \n",
    "                           param_grid,\n",
    "                           cv=StratifiedKFold(n_splits=5, shuffle=True,\n",
    "                                              random_state=42).split(X_train_word, y_train_word), \n",
    "                           verbose=2)"
   ]
  },
  {
   "cell_type": "code",
   "execution_count": 40,
   "metadata": {
    "colab": {
     "base_uri": "https://localhost:8080/"
    },
    "id": "WKXOKH-8z0SQ",
    "outputId": "28eb3c2d-14ea-4fa8-d5f6-7d9aaf500a6b"
   },
   "outputs": [
    {
     "name": "stdout",
     "output_type": "stream",
     "text": [
      "Fitting 5 folds for each of 1 candidates, totalling 5 fits\n"
     ]
    },
    {
     "name": "stderr",
     "output_type": "stream",
     "text": [
      "[Parallel(n_jobs=-1)]: Using backend LokyBackend with 4 concurrent workers.\n",
      "[Parallel(n_jobs=-1)]: Done   1 out of   1 | elapsed:  3.6min finished\n"
     ]
    },
    {
     "name": "stdout",
     "output_type": "stream",
     "text": [
      "[CV] END .................................................... total time= 3.7min\n"
     ]
    },
    {
     "name": "stderr",
     "output_type": "stream",
     "text": [
      "[Parallel(n_jobs=-1)]: Using backend LokyBackend with 4 concurrent workers.\n",
      "[Parallel(n_jobs=-1)]: Done   1 out of   1 | elapsed:  3.6min finished\n"
     ]
    },
    {
     "name": "stdout",
     "output_type": "stream",
     "text": [
      "[CV] END .................................................... total time= 3.6min\n"
     ]
    },
    {
     "name": "stderr",
     "output_type": "stream",
     "text": [
      "[Parallel(n_jobs=-1)]: Using backend LokyBackend with 4 concurrent workers.\n",
      "[Parallel(n_jobs=-1)]: Done   1 out of   1 | elapsed:  3.2min finished\n"
     ]
    },
    {
     "name": "stdout",
     "output_type": "stream",
     "text": [
      "[CV] END .................................................... total time= 3.2min\n"
     ]
    },
    {
     "name": "stderr",
     "output_type": "stream",
     "text": [
      "[Parallel(n_jobs=-1)]: Using backend LokyBackend with 4 concurrent workers.\n",
      "[Parallel(n_jobs=-1)]: Done   1 out of   1 | elapsed:  3.3min finished\n"
     ]
    },
    {
     "name": "stdout",
     "output_type": "stream",
     "text": [
      "[CV] END .................................................... total time= 3.3min\n"
     ]
    },
    {
     "name": "stderr",
     "output_type": "stream",
     "text": [
      "[Parallel(n_jobs=-1)]: Using backend LokyBackend with 4 concurrent workers.\n",
      "[Parallel(n_jobs=-1)]: Done   1 out of   1 | elapsed:  3.7min finished\n"
     ]
    },
    {
     "name": "stdout",
     "output_type": "stream",
     "text": [
      "[CV] END .................................................... total time= 3.8min\n"
     ]
    },
    {
     "name": "stderr",
     "output_type": "stream",
     "text": [
      "[Parallel(n_jobs=-1)]: Using backend LokyBackend with 4 concurrent workers.\n",
      "[Parallel(n_jobs=-1)]: Done   1 out of   1 | elapsed:  4.5min finished\n"
     ]
    }
   ],
   "source": [
    "clf_lr_word = grid_search_lr.fit(X_train_word, y_train_word)"
   ]
  },
  {
   "cell_type": "code",
   "execution_count": 41,
   "metadata": {
    "id": "W1Q5jJ6r3ycG"
   },
   "outputs": [
    {
     "name": "stdout",
     "output_type": "stream",
     "text": [
      "Training Set\n",
      "Accuracy: 0.9898575744497194\n",
      "\n",
      "              precision    recall  f1-score   support\n",
      "\n",
      "           0     0.9828    0.9866    0.9847      3067\n",
      "           1     0.9934    0.9915    0.9924      6201\n",
      "\n",
      "    accuracy                         0.9899      9268\n",
      "   macro avg     0.9881    0.9890    0.9886      9268\n",
      "weighted avg     0.9899    0.9899    0.9899      9268\n",
      "\n"
     ]
    },
    {
     "data": {
      "image/png": "[encoded data removed]",
      "text/plain": [
       "<Figure size 432x288 with 2 Axes>"
      ]
     },
     "metadata": {
      "needs_background": "light"
     },
     "output_type": "display_data"
    },
    {
     "name": "stdout",
     "output_type": "stream",
     "text": [
      "\n",
      "Testing Set\n",
      "Accuracy: 0.6815206445115811\n",
      "\n",
      "              precision    recall  f1-score   support\n",
      "\n",
      "           0     0.5240    0.5566    0.5398      1333\n",
      "           1     0.7688    0.7446    0.7565      2639\n",
      "\n",
      "    accuracy                         0.6815      3972\n",
      "   macro avg     0.6464    0.6506    0.6482      3972\n",
      "weighted avg     0.6866    0.6815    0.6838      3972\n",
      "\n"
     ]
    },
    {
     "data": {
      "image/png": "[encoded data removed]",
      "text/plain": [
       "<Figure size 432x288 with 2 Axes>"
      ]
     },
     "metadata": {
      "needs_background": "light"
     },
     "output_type": "display_data"
    },
    {
     "name": "stdout",
     "output_type": "stream",
     "text": [
      "\n"
     ]
    }
   ],
   "source": [
    "evaluate_model_ngrammWord(clf_lr_word, model_name=\"clf_lr_word\")"
   ]
  },
  {
   "cell_type": "code",
   "execution_count": 42,
   "metadata": {
    "id": "4zOB_W-qOETN"
   },
   "outputs": [],
   "source": [
    "grid_search_lr = GridSearchCV(clf_lr, \n",
    "                           param_grid,\n",
    "                           cv=StratifiedKFold(n_splits=5, shuffle=True,\n",
    "                                              random_state=42).split(X_train_char, y_train_char), \n",
    "                           verbose=2)"
   ]
  },
  {
   "cell_type": "code",
   "execution_count": 43,
   "metadata": {
    "id": "gZn55sF2OEfL"
   },
   "outputs": [
    {
     "name": "stdout",
     "output_type": "stream",
     "text": [
      "Fitting 5 folds for each of 1 candidates, totalling 5 fits\n"
     ]
    },
    {
     "name": "stderr",
     "output_type": "stream",
     "text": [
      "[Parallel(n_jobs=-1)]: Using backend LokyBackend with 4 concurrent workers.\n",
      "[Parallel(n_jobs=-1)]: Done   1 out of   1 | elapsed:  9.1min finished\n"
     ]
    },
    {
     "name": "stdout",
     "output_type": "stream",
     "text": [
      "[CV] END .................................................... total time= 9.4min\n"
     ]
    },
    {
     "name": "stderr",
     "output_type": "stream",
     "text": [
      "[Parallel(n_jobs=-1)]: Using backend LokyBackend with 4 concurrent workers.\n",
      "[Parallel(n_jobs=-1)]: Done   1 out of   1 | elapsed:  8.8min finished\n"
     ]
    },
    {
     "name": "stdout",
     "output_type": "stream",
     "text": [
      "[CV] END .................................................... total time= 8.9min\n"
     ]
    },
    {
     "name": "stderr",
     "output_type": "stream",
     "text": [
      "[Parallel(n_jobs=-1)]: Using backend LokyBackend with 4 concurrent workers.\n",
      "[Parallel(n_jobs=-1)]: Done   1 out of   1 | elapsed:  8.9min finished\n"
     ]
    },
    {
     "name": "stdout",
     "output_type": "stream",
     "text": [
      "[CV] END .................................................... total time= 8.9min\n"
     ]
    },
    {
     "name": "stderr",
     "output_type": "stream",
     "text": [
      "[Parallel(n_jobs=-1)]: Using backend LokyBackend with 4 concurrent workers.\n",
      "[Parallel(n_jobs=-1)]: Done   1 out of   1 | elapsed:  8.4min finished\n"
     ]
    },
    {
     "name": "stdout",
     "output_type": "stream",
     "text": [
      "[CV] END .................................................... total time= 8.4min\n"
     ]
    },
    {
     "name": "stderr",
     "output_type": "stream",
     "text": [
      "[Parallel(n_jobs=-1)]: Using backend LokyBackend with 4 concurrent workers.\n",
      "[Parallel(n_jobs=-1)]: Done   1 out of   1 | elapsed:  8.4min finished\n"
     ]
    },
    {
     "name": "stdout",
     "output_type": "stream",
     "text": [
      "[CV] END .................................................... total time= 8.4min\n"
     ]
    },
    {
     "name": "stderr",
     "output_type": "stream",
     "text": [
      "[Parallel(n_jobs=-1)]: Using backend LokyBackend with 4 concurrent workers.\n",
      "[Parallel(n_jobs=-1)]: Done   1 out of   1 | elapsed: 12.0min finished\n"
     ]
    }
   ],
   "source": [
    "clf_lr_char= grid_search_lr.fit(X_train_char, y_train_char)"
   ]
  },
  {
   "cell_type": "code",
   "execution_count": 44,
   "metadata": {
    "id": "-Nhyi2zVOEqU"
   },
   "outputs": [
    {
     "name": "stdout",
     "output_type": "stream",
     "text": [
      "Training Set\n",
      "Accuracy: 0.9982736296935693\n",
      "\n",
      "              precision    recall  f1-score   support\n",
      "\n",
      "           0     0.9974    0.9974    0.9974      3114\n",
      "           1     0.9987    0.9987    0.9987      6154\n",
      "\n",
      "    accuracy                         0.9983      9268\n",
      "   macro avg     0.9981    0.9981    0.9981      9268\n",
      "weighted avg     0.9983    0.9983    0.9983      9268\n",
      "\n"
     ]
    },
    {
     "data": {
      "image/png": "[encoded data removed]",
      "text/plain": [
       "<Figure size 432x288 with 2 Axes>"
      ]
     },
     "metadata": {
      "needs_background": "light"
     },
     "output_type": "display_data"
    },
    {
     "name": "stdout",
     "output_type": "stream",
     "text": [
      "\n",
      "Testing Set\n",
      "Accuracy: 0.701409869083585\n",
      "\n",
      "              precision    recall  f1-score   support\n",
      "\n",
      "           0     0.5375    0.5575    0.5473      1286\n",
      "           1     0.7843    0.7703    0.7772      2686\n",
      "\n",
      "    accuracy                         0.7014      3972\n",
      "   macro avg     0.6609    0.6639    0.6623      3972\n",
      "weighted avg     0.7044    0.7014    0.7028      3972\n",
      "\n"
     ]
    },
    {
     "data": {
      "image/png": "[encoded data removed]",
      "text/plain": [
       "<Figure size 432x288 with 2 Axes>"
      ]
     },
     "metadata": {
      "needs_background": "light"
     },
     "output_type": "display_data"
    },
    {
     "name": "stdout",
     "output_type": "stream",
     "text": [
      "\n"
     ]
    }
   ],
   "source": [
    "evaluate_model_ngrammChar(clf_lr_char, model_name=\"clf_lr_char\")"
   ]
  },
  {
   "cell_type": "code",
   "execution_count": 45,
   "metadata": {
    "id": "WObBkbO13ypx"
   },
   "outputs": [],
   "source": [
    "del clf_lr"
   ]
  },
  {
   "cell_type": "markdown",
   "metadata": {
    "id": "GHGngHlA4vUm"
   },
   "source": [
    "### **4.3 Random Forest**"
   ]
  },
  {
   "cell_type": "code",
   "execution_count": 46,
   "metadata": {
    "id": "LIPSDU75EQCq"
   },
   "outputs": [],
   "source": [
    "clf_rf = RandomForestClassifier(n_estimators=500,\n",
    "                                criterion=\"gini\",\n",
    "                                max_depth=None, \n",
    "                                min_samples_split=2,\n",
    "                                min_samples_leaf=10, \n",
    "                                max_features=\"auto\", \n",
    "                                n_jobs=-1,\n",
    "                                verbose=1,\n",
    "                                random_state=0,\n",
    "                                class_weight='balanced')"
   ]
  },
  {
   "cell_type": "code",
   "execution_count": 47,
   "metadata": {
    "id": "-ZW6qLTd-jji"
   },
   "outputs": [],
   "source": [
    "grid_search_rf = GridSearchCV(clf_rf, \n",
    "                           param_grid,\n",
    "                           cv=StratifiedKFold(n_splits=5, shuffle=True,\n",
    "                                              random_state=42).split(X_train_word, y_train_word), \n",
    "                           verbose=2)"
   ]
  },
  {
   "cell_type": "code",
   "execution_count": 48,
   "metadata": {
    "id": "9EkLq1MmyMha"
   },
   "outputs": [
    {
     "name": "stdout",
     "output_type": "stream",
     "text": [
      "Fitting 5 folds for each of 1 candidates, totalling 5 fits\n"
     ]
    },
    {
     "name": "stderr",
     "output_type": "stream",
     "text": [
      "[Parallel(n_jobs=-1)]: Using backend LokyBackend with 4 concurrent workers.\n",
      "[Parallel(n_jobs=-1)]: Done  42 tasks      | elapsed:   12.8s\n",
      "[Parallel(n_jobs=-1)]: Done 192 tasks      | elapsed:   37.3s\n",
      "[Parallel(n_jobs=-1)]: Done 442 tasks      | elapsed:  1.3min\n",
      "[Parallel(n_jobs=-1)]: Done 500 out of 500 | elapsed:  1.5min finished\n",
      "[Parallel(n_jobs=4)]: Using backend ThreadingBackend with 4 concurrent workers.\n",
      "[Parallel(n_jobs=4)]: Done  42 tasks      | elapsed:    0.2s\n",
      "[Parallel(n_jobs=4)]: Done 192 tasks      | elapsed:    0.3s\n",
      "[Parallel(n_jobs=4)]: Done 442 tasks      | elapsed:    0.5s\n",
      "[Parallel(n_jobs=4)]: Done 500 out of 500 | elapsed:    0.5s finished\n"
     ]
    },
    {
     "name": "stdout",
     "output_type": "stream",
     "text": [
      "[CV] END .................................................... total time= 1.6min\n"
     ]
    },
    {
     "name": "stderr",
     "output_type": "stream",
     "text": [
      "[Parallel(n_jobs=-1)]: Using backend LokyBackend with 4 concurrent workers.\n",
      "[Parallel(n_jobs=-1)]: Done  42 tasks      | elapsed:    8.7s\n",
      "[Parallel(n_jobs=-1)]: Done 192 tasks      | elapsed:   34.3s\n",
      "[Parallel(n_jobs=-1)]: Done 442 tasks      | elapsed:  1.3min\n",
      "[Parallel(n_jobs=-1)]: Done 500 out of 500 | elapsed:  1.4min finished\n",
      "[Parallel(n_jobs=4)]: Using backend ThreadingBackend with 4 concurrent workers.\n",
      "[Parallel(n_jobs=4)]: Done  42 tasks      | elapsed:    0.0s\n",
      "[Parallel(n_jobs=4)]: Done 192 tasks      | elapsed:    0.1s\n",
      "[Parallel(n_jobs=4)]: Done 442 tasks      | elapsed:    0.2s\n",
      "[Parallel(n_jobs=4)]: Done 500 out of 500 | elapsed:    0.3s finished\n"
     ]
    },
    {
     "name": "stdout",
     "output_type": "stream",
     "text": [
      "[CV] END .................................................... total time= 1.5min\n"
     ]
    },
    {
     "name": "stderr",
     "output_type": "stream",
     "text": [
      "[Parallel(n_jobs=-1)]: Using backend LokyBackend with 4 concurrent workers.\n",
      "[Parallel(n_jobs=-1)]: Done  42 tasks      | elapsed:    9.7s\n",
      "[Parallel(n_jobs=-1)]: Done 192 tasks      | elapsed:   36.1s\n",
      "[Parallel(n_jobs=-1)]: Done 442 tasks      | elapsed: 18.1min\n",
      "[Parallel(n_jobs=-1)]: Done 500 out of 500 | elapsed: 18.3min finished\n",
      "[Parallel(n_jobs=4)]: Using backend ThreadingBackend with 4 concurrent workers.\n",
      "[Parallel(n_jobs=4)]: Done  42 tasks      | elapsed:    0.0s\n",
      "[Parallel(n_jobs=4)]: Done 192 tasks      | elapsed:    0.1s\n",
      "[Parallel(n_jobs=4)]: Done 442 tasks      | elapsed:    0.5s\n",
      "[Parallel(n_jobs=4)]: Done 500 out of 500 | elapsed:    0.6s finished\n"
     ]
    },
    {
     "name": "stdout",
     "output_type": "stream",
     "text": [
      "[CV] END .................................................... total time=18.4min\n"
     ]
    },
    {
     "name": "stderr",
     "output_type": "stream",
     "text": [
      "[Parallel(n_jobs=-1)]: Using backend LokyBackend with 4 concurrent workers.\n",
      "[Parallel(n_jobs=-1)]: Done  42 tasks      | elapsed:   13.3s\n",
      "[Parallel(n_jobs=-1)]: Done 192 tasks      | elapsed:   47.2s\n",
      "[Parallel(n_jobs=-1)]: Done 442 tasks      | elapsed:  1.8min\n",
      "[Parallel(n_jobs=-1)]: Done 500 out of 500 | elapsed:  2.0min finished\n",
      "[Parallel(n_jobs=4)]: Using backend ThreadingBackend with 4 concurrent workers.\n",
      "[Parallel(n_jobs=4)]: Done  42 tasks      | elapsed:    0.0s\n",
      "[Parallel(n_jobs=4)]: Done 192 tasks      | elapsed:    0.1s\n",
      "[Parallel(n_jobs=4)]: Done 442 tasks      | elapsed:    0.3s\n",
      "[Parallel(n_jobs=4)]: Done 500 out of 500 | elapsed:    0.4s finished\n"
     ]
    },
    {
     "name": "stdout",
     "output_type": "stream",
     "text": [
      "[CV] END .................................................... total time= 2.0min\n"
     ]
    },
    {
     "name": "stderr",
     "output_type": "stream",
     "text": [
      "[Parallel(n_jobs=-1)]: Using backend LokyBackend with 4 concurrent workers.\n",
      "[Parallel(n_jobs=-1)]: Done  42 tasks      | elapsed:   14.0s\n",
      "[Parallel(n_jobs=-1)]: Done 192 tasks      | elapsed:   48.8s\n",
      "[Parallel(n_jobs=-1)]: Done 442 tasks      | elapsed:  1.8min\n",
      "[Parallel(n_jobs=-1)]: Done 500 out of 500 | elapsed:  2.0min finished\n",
      "[Parallel(n_jobs=4)]: Using backend ThreadingBackend with 4 concurrent workers.\n",
      "[Parallel(n_jobs=4)]: Done  42 tasks      | elapsed:    0.0s\n",
      "[Parallel(n_jobs=4)]: Done 192 tasks      | elapsed:    0.2s\n",
      "[Parallel(n_jobs=4)]: Done 442 tasks      | elapsed:    0.7s\n",
      "[Parallel(n_jobs=4)]: Done 500 out of 500 | elapsed:    0.8s finished\n"
     ]
    },
    {
     "name": "stdout",
     "output_type": "stream",
     "text": [
      "[CV] END .................................................... total time= 2.1min\n"
     ]
    },
    {
     "name": "stderr",
     "output_type": "stream",
     "text": [
      "[Parallel(n_jobs=-1)]: Using backend ThreadingBackend with 4 concurrent workers.\n",
      "[Parallel(n_jobs=-1)]: Done  42 tasks      | elapsed:   11.2s\n",
      "[Parallel(n_jobs=-1)]: Done 192 tasks      | elapsed:   44.7s\n",
      "[Parallel(n_jobs=-1)]: Done 442 tasks      | elapsed:  1.7min\n",
      "[Parallel(n_jobs=-1)]: Done 500 out of 500 | elapsed:  1.9min finished\n"
     ]
    }
   ],
   "source": [
    "clf_rf_word= grid_search_rf.fit(X_train_word, y_train_word)"
   ]
  },
  {
   "cell_type": "code",
   "execution_count": 49,
   "metadata": {
    "id": "CGlaAofi51l6"
   },
   "outputs": [
    {
     "name": "stderr",
     "output_type": "stream",
     "text": [
      "[Parallel(n_jobs=4)]: Using backend ThreadingBackend with 4 concurrent workers.\n",
      "[Parallel(n_jobs=4)]: Done  42 tasks      | elapsed:    0.1s\n",
      "[Parallel(n_jobs=4)]: Done 192 tasks      | elapsed:    0.9s\n",
      "[Parallel(n_jobs=4)]: Done 442 tasks      | elapsed:    2.2s\n",
      "[Parallel(n_jobs=4)]: Done 500 out of 500 | elapsed:    2.5s finished\n"
     ]
    },
    {
     "name": "stdout",
     "output_type": "stream",
     "text": [
      "Training Set\n",
      "Accuracy: 0.7905697022011221\n",
      "\n",
      "              precision    recall  f1-score   support\n",
      "\n",
      "           0     0.6666    0.7346    0.6989      3067\n",
      "           1     0.8618    0.8183    0.8394      6201\n",
      "\n",
      "    accuracy                         0.7906      9268\n",
      "   macro avg     0.7642    0.7764    0.7692      9268\n",
      "weighted avg     0.7972    0.7906    0.7929      9268\n",
      "\n"
     ]
    },
    {
     "name": "stderr",
     "output_type": "stream",
     "text": [
      "[Parallel(n_jobs=4)]: Using backend ThreadingBackend with 4 concurrent workers.\n",
      "[Parallel(n_jobs=4)]: Done  42 tasks      | elapsed:    0.1s\n",
      "[Parallel(n_jobs=4)]: Done 192 tasks      | elapsed:    0.9s\n",
      "[Parallel(n_jobs=4)]: Done 442 tasks      | elapsed:    2.2s\n",
      "[Parallel(n_jobs=4)]: Done 500 out of 500 | elapsed:    2.5s finished\n"
     ]
    },
    {
     "data": {
      "image/png": "[encoded data removed]",
      "text/plain": [
       "<Figure size 432x288 with 2 Axes>"
      ]
     },
     "metadata": {
      "needs_background": "light"
     },
     "output_type": "display_data"
    },
    {
     "name": "stdout",
     "output_type": "stream",
     "text": [
      "\n"
     ]
    },
    {
     "name": "stderr",
     "output_type": "stream",
     "text": [
      "[Parallel(n_jobs=4)]: Using backend ThreadingBackend with 4 concurrent workers.\n",
      "[Parallel(n_jobs=4)]: Done  42 tasks      | elapsed:    0.0s\n",
      "[Parallel(n_jobs=4)]: Done 192 tasks      | elapsed:    0.4s\n",
      "[Parallel(n_jobs=4)]: Done 442 tasks      | elapsed:    1.1s\n",
      "[Parallel(n_jobs=4)]: Done 500 out of 500 | elapsed:    1.2s finished\n"
     ]
    },
    {
     "name": "stdout",
     "output_type": "stream",
     "text": [
      "Testing Set\n",
      "Accuracy: 0.6714501510574018\n",
      "\n",
      "              precision    recall  f1-score   support\n",
      "\n",
      "           0     0.5088    0.6062    0.5532      1333\n",
      "           1     0.7798    0.7044    0.7402      2639\n",
      "\n",
      "    accuracy                         0.6715      3972\n",
      "   macro avg     0.6443    0.6553    0.6467      3972\n",
      "weighted avg     0.6888    0.6715    0.6775      3972\n",
      "\n"
     ]
    },
    {
     "name": "stderr",
     "output_type": "stream",
     "text": [
      "[Parallel(n_jobs=4)]: Using backend ThreadingBackend with 4 concurrent workers.\n",
      "[Parallel(n_jobs=4)]: Done  42 tasks      | elapsed:    0.0s\n",
      "[Parallel(n_jobs=4)]: Done 192 tasks      | elapsed:    0.4s\n",
      "[Parallel(n_jobs=4)]: Done 442 tasks      | elapsed:    1.0s\n",
      "[Parallel(n_jobs=4)]: Done 500 out of 500 | elapsed:    1.2s finished\n"
     ]
    },
    {
     "data": {
      "image/png": "[encoded data removed]",
      "text/plain": [
       "<Figure size 432x288 with 2 Axes>"
      ]
     },
     "metadata": {
      "needs_background": "light"
     },
     "output_type": "display_data"
    },
    {
     "name": "stdout",
     "output_type": "stream",
     "text": [
      "\n"
     ]
    }
   ],
   "source": [
    "evaluate_model_ngrammWord(clf_rf_word, model_name=\"clf_rf_word\")"
   ]
  },
  {
   "cell_type": "code",
   "execution_count": 50,
   "metadata": {
    "id": "hR2yXGnMPTCW"
   },
   "outputs": [],
   "source": [
    "grid_search_rf = GridSearchCV(clf_rf, \n",
    "                           param_grid,\n",
    "                           cv=StratifiedKFold(n_splits=5, shuffle=True,\n",
    "                                              random_state=42).split(X_train_char, y_train_char), \n",
    "                           verbose=2)"
   ]
  },
  {
   "cell_type": "code",
   "execution_count": 51,
   "metadata": {
    "id": "b2FH56xWPTQt"
   },
   "outputs": [
    {
     "name": "stdout",
     "output_type": "stream",
     "text": [
      "Fitting 5 folds for each of 1 candidates, totalling 5 fits\n"
     ]
    },
    {
     "name": "stderr",
     "output_type": "stream",
     "text": [
      "[Parallel(n_jobs=-1)]: Using backend LokyBackend with 4 concurrent workers.\n",
      "[Parallel(n_jobs=-1)]: Done  42 tasks      | elapsed:   29.8s\n",
      "[Parallel(n_jobs=-1)]: Done 192 tasks      | elapsed:  1.5min\n",
      "[Parallel(n_jobs=-1)]: Done 442 tasks      | elapsed:  3.2min\n",
      "[Parallel(n_jobs=-1)]: Done 500 out of 500 | elapsed:  3.6min finished\n",
      "[Parallel(n_jobs=4)]: Using backend ThreadingBackend with 4 concurrent workers.\n",
      "[Parallel(n_jobs=4)]: Done  42 tasks      | elapsed:    0.0s\n",
      "[Parallel(n_jobs=4)]: Done 192 tasks      | elapsed:    0.1s\n",
      "[Parallel(n_jobs=4)]: Done 442 tasks      | elapsed:    0.3s\n",
      "[Parallel(n_jobs=4)]: Done 500 out of 500 | elapsed:    0.3s finished\n"
     ]
    },
    {
     "name": "stdout",
     "output_type": "stream",
     "text": [
      "[CV] END .................................................... total time= 3.8min\n"
     ]
    },
    {
     "name": "stderr",
     "output_type": "stream",
     "text": [
      "[Parallel(n_jobs=-1)]: Using backend LokyBackend with 4 concurrent workers.\n",
      "[Parallel(n_jobs=-1)]: Done  42 tasks      | elapsed:   26.5s\n",
      "[Parallel(n_jobs=-1)]: Done 192 tasks      | elapsed: 16.1min\n",
      "[Parallel(n_jobs=-1)]: Done 442 tasks      | elapsed: 18.4min\n",
      "[Parallel(n_jobs=-1)]: Done 500 out of 500 | elapsed: 18.9min finished\n",
      "[Parallel(n_jobs=4)]: Using backend ThreadingBackend with 4 concurrent workers.\n",
      "[Parallel(n_jobs=4)]: Done  42 tasks      | elapsed:    0.0s\n",
      "[Parallel(n_jobs=4)]: Done 192 tasks      | elapsed:    0.1s\n",
      "[Parallel(n_jobs=4)]: Done 442 tasks      | elapsed:    0.4s\n",
      "[Parallel(n_jobs=4)]: Done 500 out of 500 | elapsed:    0.5s finished\n"
     ]
    },
    {
     "name": "stdout",
     "output_type": "stream",
     "text": [
      "[CV] END .................................................... total time=19.1min\n"
     ]
    },
    {
     "name": "stderr",
     "output_type": "stream",
     "text": [
      "[Parallel(n_jobs=-1)]: Using backend LokyBackend with 4 concurrent workers.\n",
      "[Parallel(n_jobs=-1)]: Done  42 tasks      | elapsed:   30.8s\n",
      "[Parallel(n_jobs=-1)]: Done 192 tasks      | elapsed:  1.9min\n",
      "[Parallel(n_jobs=-1)]: Done 442 tasks      | elapsed:  4.2min\n",
      "[Parallel(n_jobs=-1)]: Done 500 out of 500 | elapsed:  4.7min finished\n",
      "[Parallel(n_jobs=4)]: Using backend ThreadingBackend with 4 concurrent workers.\n",
      "[Parallel(n_jobs=4)]: Done  42 tasks      | elapsed:    0.0s\n",
      "[Parallel(n_jobs=4)]: Done 192 tasks      | elapsed:    0.5s\n",
      "[Parallel(n_jobs=4)]: Done 442 tasks      | elapsed:    1.3s\n",
      "[Parallel(n_jobs=4)]: Done 500 out of 500 | elapsed:    1.4s finished\n"
     ]
    },
    {
     "name": "stdout",
     "output_type": "stream",
     "text": [
      "[CV] END .................................................... total time= 4.9min\n"
     ]
    },
    {
     "name": "stderr",
     "output_type": "stream",
     "text": [
      "[Parallel(n_jobs=-1)]: Using backend LokyBackend with 4 concurrent workers.\n",
      "[Parallel(n_jobs=-1)]: Done  42 tasks      | elapsed:   31.9s\n",
      "[Parallel(n_jobs=-1)]: Done 192 tasks      | elapsed:  1.9min\n",
      "[Parallel(n_jobs=-1)]: Done 442 tasks      | elapsed:  4.3min\n",
      "[Parallel(n_jobs=-1)]: Done 500 out of 500 | elapsed:  4.8min finished\n",
      "[Parallel(n_jobs=4)]: Using backend ThreadingBackend with 4 concurrent workers.\n",
      "[Parallel(n_jobs=4)]: Done  42 tasks      | elapsed:    0.0s\n",
      "[Parallel(n_jobs=4)]: Done 192 tasks      | elapsed:    0.1s\n",
      "[Parallel(n_jobs=4)]: Done 442 tasks      | elapsed:    0.4s\n",
      "[Parallel(n_jobs=4)]: Done 500 out of 500 | elapsed:    0.4s finished\n"
     ]
    },
    {
     "name": "stdout",
     "output_type": "stream",
     "text": [
      "[CV] END .................................................... total time= 5.0min\n"
     ]
    },
    {
     "name": "stderr",
     "output_type": "stream",
     "text": [
      "[Parallel(n_jobs=-1)]: Using backend LokyBackend with 4 concurrent workers.\n",
      "[Parallel(n_jobs=-1)]: Done  42 tasks      | elapsed:   31.2s\n",
      "[Parallel(n_jobs=-1)]: Done 192 tasks      | elapsed:  1.8min\n",
      "[Parallel(n_jobs=-1)]: Done 442 tasks      | elapsed:  3.9min\n",
      "[Parallel(n_jobs=-1)]: Done 500 out of 500 | elapsed:  4.4min finished\n",
      "[Parallel(n_jobs=4)]: Using backend ThreadingBackend with 4 concurrent workers.\n",
      "[Parallel(n_jobs=4)]: Done  42 tasks      | elapsed:    0.0s\n",
      "[Parallel(n_jobs=4)]: Done 192 tasks      | elapsed:    0.4s\n",
      "[Parallel(n_jobs=4)]: Done 442 tasks      | elapsed:    1.2s\n",
      "[Parallel(n_jobs=4)]: Done 500 out of 500 | elapsed:    1.5s finished\n"
     ]
    },
    {
     "name": "stdout",
     "output_type": "stream",
     "text": [
      "[CV] END .................................................... total time= 4.6min\n"
     ]
    },
    {
     "name": "stderr",
     "output_type": "stream",
     "text": [
      "[Parallel(n_jobs=-1)]: Using backend ThreadingBackend with 4 concurrent workers.\n",
      "[Parallel(n_jobs=-1)]: Done  42 tasks      | elapsed:   24.7s\n",
      "[Parallel(n_jobs=-1)]: Done 192 tasks      | elapsed:  1.6min\n",
      "[Parallel(n_jobs=-1)]: Done 442 tasks      | elapsed:  3.6min\n",
      "[Parallel(n_jobs=-1)]: Done 500 out of 500 | elapsed:  4.1min finished\n"
     ]
    }
   ],
   "source": [
    "clf_rf_char= grid_search_rf.fit(X_train_char, y_train_char)"
   ]
  },
  {
   "cell_type": "code",
   "execution_count": 52,
   "metadata": {
    "id": "S8lJ6iiLPTdM"
   },
   "outputs": [
    {
     "name": "stderr",
     "output_type": "stream",
     "text": [
      "[Parallel(n_jobs=4)]: Using backend ThreadingBackend with 4 concurrent workers.\n",
      "[Parallel(n_jobs=4)]: Done  42 tasks      | elapsed:    0.1s\n",
      "[Parallel(n_jobs=4)]: Done 192 tasks      | elapsed:    0.6s\n",
      "[Parallel(n_jobs=4)]: Done 442 tasks      | elapsed:    2.0s\n",
      "[Parallel(n_jobs=4)]: Done 500 out of 500 | elapsed:    2.3s finished\n"
     ]
    },
    {
     "name": "stdout",
     "output_type": "stream",
     "text": [
      "Training Set\n",
      "Accuracy: 0.8917781614156236\n",
      "\n",
      "              precision    recall  f1-score   support\n",
      "\n",
      "           0     0.8744    0.7916    0.8309      3114\n",
      "           1     0.8994    0.9425    0.9204      6154\n",
      "\n",
      "    accuracy                         0.8918      9268\n",
      "   macro avg     0.8869    0.8670    0.8757      9268\n",
      "weighted avg     0.8910    0.8918    0.8904      9268\n",
      "\n"
     ]
    },
    {
     "name": "stderr",
     "output_type": "stream",
     "text": [
      "[Parallel(n_jobs=4)]: Using backend ThreadingBackend with 4 concurrent workers.\n",
      "[Parallel(n_jobs=4)]: Done  42 tasks      | elapsed:    0.1s\n",
      "[Parallel(n_jobs=4)]: Done 192 tasks      | elapsed:    0.8s\n",
      "[Parallel(n_jobs=4)]: Done 442 tasks      | elapsed:    1.8s\n",
      "[Parallel(n_jobs=4)]: Done 500 out of 500 | elapsed:    2.1s finished\n"
     ]
    },
    {
     "data": {
      "image/png": "[encoded data removed]",
      "text/plain": [
       "<Figure size 432x288 with 2 Axes>"
      ]
     },
     "metadata": {
      "needs_background": "light"
     },
     "output_type": "display_data"
    },
    {
     "name": "stdout",
     "output_type": "stream",
     "text": [
      "\n"
     ]
    },
    {
     "name": "stderr",
     "output_type": "stream",
     "text": [
      "[Parallel(n_jobs=4)]: Using backend ThreadingBackend with 4 concurrent workers.\n",
      "[Parallel(n_jobs=4)]: Done  42 tasks      | elapsed:    0.0s\n",
      "[Parallel(n_jobs=4)]: Done 192 tasks      | elapsed:    0.5s\n",
      "[Parallel(n_jobs=4)]: Done 442 tasks      | elapsed:    1.0s\n",
      "[Parallel(n_jobs=4)]: Done 500 out of 500 | elapsed:    1.1s finished\n"
     ]
    },
    {
     "name": "stdout",
     "output_type": "stream",
     "text": [
      "Testing Set\n",
      "Accuracy: 0.7583081570996979\n",
      "\n",
      "              precision    recall  f1-score   support\n",
      "\n",
      "           0     0.6526    0.5420    0.5922      1286\n",
      "           1     0.7972    0.8619    0.8283      2686\n",
      "\n",
      "    accuracy                         0.7583      3972\n",
      "   macro avg     0.7249    0.7019    0.7102      3972\n",
      "weighted avg     0.7504    0.7583    0.7518      3972\n",
      "\n"
     ]
    },
    {
     "name": "stderr",
     "output_type": "stream",
     "text": [
      "[Parallel(n_jobs=4)]: Using backend ThreadingBackend with 4 concurrent workers.\n",
      "[Parallel(n_jobs=4)]: Done  42 tasks      | elapsed:    0.1s\n",
      "[Parallel(n_jobs=4)]: Done 192 tasks      | elapsed:    0.8s\n",
      "[Parallel(n_jobs=4)]: Done 442 tasks      | elapsed:    1.7s\n",
      "[Parallel(n_jobs=4)]: Done 500 out of 500 | elapsed:    1.9s finished\n"
     ]
    },
    {
     "data": {
      "image/png": "[encoded data removed]",
      "text/plain": [
       "<Figure size 432x288 with 2 Axes>"
      ]
     },
     "metadata": {
      "needs_background": "light"
     },
     "output_type": "display_data"
    },
    {
     "name": "stdout",
     "output_type": "stream",
     "text": [
      "\n"
     ]
    }
   ],
   "source": [
    "evaluate_model_ngrammChar(clf_rf_char, model_name=\"clf_rf_char\")"
   ]
  },
  {
   "cell_type": "code",
   "execution_count": 53,
   "metadata": {
    "id": "ie9EHRVp6aGv"
   },
   "outputs": [],
   "source": [
    "del clf_rf"
   ]
  },
  {
   "cell_type": "markdown",
   "metadata": {
    "id": "UfgxLqHj46JP"
   },
   "source": [
    "### **4.4 Neural Network**"
   ]
  },
  {
   "cell_type": "code",
   "execution_count": 55,
   "metadata": {
    "id": "BEYfAkeHqcfu"
   },
   "outputs": [],
   "source": [
    "clf_nn = MLPClassifier(alpha=1e-5,\n",
    "                       hidden_layer_sizes=(150,100,50),\n",
    "                       max_iter=300,\n",
    "                       activation = 'relu',\n",
    "                       solver='adam',\n",
    "                       random_state=1)"
   ]
  },
  {
   "cell_type": "code",
   "execution_count": 56,
   "metadata": {
    "id": "VfM_ewcoT_6x"
   },
   "outputs": [],
   "source": [
    "grid_search_nn = GridSearchCV(clf_nn, \n",
    "                           param_grid,\n",
    "                           cv=StratifiedKFold(n_splits=5, shuffle=True,\n",
    "                                              random_state=42).split(X_train_word, y_train_word), \n",
    "                           verbose=2)"
   ]
  },
  {
   "cell_type": "code",
   "execution_count": 57,
   "metadata": {
    "id": "incNx66n_1e4"
   },
   "outputs": [
    {
     "name": "stdout",
     "output_type": "stream",
     "text": [
      "Fitting 5 folds for each of 1 candidates, totalling 5 fits\n",
      "[CV] END .................................................... total time=19.4min\n",
      "[CV] END .................................................... total time=10.9min\n",
      "[CV] END .................................................... total time= 9.0min\n",
      "[CV] END .................................................... total time=19.8min\n",
      "[CV] END .................................................... total time=16.9min\n"
     ]
    }
   ],
   "source": [
    "clf_nn_word = grid_search_nn.fit(X_train_word, y_train_word)"
   ]
  },
  {
   "cell_type": "code",
   "execution_count": 58,
   "metadata": {
    "id": "vYyFZP0xyUME"
   },
   "outputs": [
    {
     "name": "stdout",
     "output_type": "stream",
     "text": [
      "Training Set\n",
      "Accuracy: 0.9977341389728097\n",
      "\n",
      "              precision    recall  f1-score   support\n",
      "\n",
      "           0     0.9984    0.9948    0.9966      3067\n",
      "           1     0.9974    0.9992    0.9983      6201\n",
      "\n",
      "    accuracy                         0.9977      9268\n",
      "   macro avg     0.9979    0.9970    0.9974      9268\n",
      "weighted avg     0.9977    0.9977    0.9977      9268\n",
      "\n"
     ]
    },
    {
     "data": {
      "image/png": "[encoded data removed]",
      "text/plain": [
       "<Figure size 432x288 with 2 Axes>"
      ]
     },
     "metadata": {
      "needs_background": "light"
     },
     "output_type": "display_data"
    },
    {
     "name": "stdout",
     "output_type": "stream",
     "text": [
      "\n",
      "Testing Set\n",
      "Accuracy: 0.7187814702920443\n",
      "\n",
      "              precision    recall  f1-score   support\n",
      "\n",
      "           0     0.5991    0.4899    0.5390      1333\n",
      "           1     0.7641    0.8344    0.7977      2639\n",
      "\n",
      "    accuracy                         0.7188      3972\n",
      "   macro avg     0.6816    0.6621    0.6683      3972\n",
      "weighted avg     0.7087    0.7188    0.7109      3972\n",
      "\n"
     ]
    },
    {
     "data": {
      "image/png": "[encoded data removed]",
      "text/plain": [
       "<Figure size 432x288 with 2 Axes>"
      ]
     },
     "metadata": {
      "needs_background": "light"
     },
     "output_type": "display_data"
    },
    {
     "name": "stdout",
     "output_type": "stream",
     "text": [
      "\n"
     ]
    }
   ],
   "source": [
    "evaluate_model_ngrammWord(clf_nn_word, model_name=\"clf_nn_word\")"
   ]
  },
  {
   "cell_type": "code",
   "execution_count": 60,
   "metadata": {
    "id": "A5_oAXrTUBXe"
   },
   "outputs": [],
   "source": [
    "grid_search_nn = GridSearchCV(clf_nn, \n",
    "                           param_grid,\n",
    "                           cv=StratifiedKFold(n_splits=5, shuffle=True,\n",
    "                                              random_state=42).split(X_train_char, y_train_char), \n",
    "                           verbose=2)"
   ]
  },
  {
   "cell_type": "code",
   "execution_count": 61,
   "metadata": {
    "id": "LOA-K1MOUBfY"
   },
   "outputs": [
    {
     "name": "stdout",
     "output_type": "stream",
     "text": [
      "Fitting 5 folds for each of 1 candidates, totalling 5 fits\n",
      "[CV] END .................................................... total time= 7.3min\n",
      "[CV] END .................................................... total time=12.5min\n",
      "[CV] END .................................................... total time=10.5min\n",
      "[CV] END .................................................... total time=13.4min\n",
      "[CV] END .................................................... total time= 9.7min\n"
     ]
    }
   ],
   "source": [
    "\n",
    "clf_nn_char = grid_search_nn.fit(X_train_char, y_train_char)"
   ]
  },
  {
   "cell_type": "code",
   "execution_count": 62,
   "metadata": {
    "id": "ZLTitSEeUBo3"
   },
   "outputs": [
    {
     "name": "stdout",
     "output_type": "stream",
     "text": [
      "Training Set\n",
      "Accuracy: 0.9961156668105309\n",
      "\n",
      "              precision    recall  f1-score   support\n",
      "\n",
      "           0     0.9961    0.9923    0.9942      3114\n",
      "           1     0.9961    0.9981    0.9971      6154\n",
      "\n",
      "    accuracy                         0.9961      9268\n",
      "   macro avg     0.9961    0.9952    0.9956      9268\n",
      "weighted avg     0.9961    0.9961    0.9961      9268\n",
      "\n"
     ]
    },
    {
     "data": {
      "image/png": "[encoded data removed]",
      "text/plain": [
       "<Figure size 432x288 with 2 Axes>"
      ]
     },
     "metadata": {
      "needs_background": "light"
     },
     "output_type": "display_data"
    },
    {
     "name": "stdout",
     "output_type": "stream",
     "text": [
      "\n",
      "Testing Set\n",
      "Accuracy: 0.7150050352467271\n",
      "\n",
      "              precision    recall  f1-score   support\n",
      "\n",
      "           0     0.5647    0.5226    0.5428      1286\n",
      "           1     0.7793    0.8071    0.7930      2686\n",
      "\n",
      "    accuracy                         0.7150      3972\n",
      "   macro avg     0.6720    0.6648    0.6679      3972\n",
      "weighted avg     0.7098    0.7150    0.7120      3972\n",
      "\n"
     ]
    },
    {
     "data": {
      "image/png": "[encoded data removed]",
      "text/plain": [
       "<Figure size 432x288 with 2 Axes>"
      ]
     },
     "metadata": {
      "needs_background": "light"
     },
     "output_type": "display_data"
    },
    {
     "name": "stdout",
     "output_type": "stream",
     "text": [
      "\n"
     ]
    }
   ],
   "source": [
    "evaluate_model_ngrammChar(clf_nn_char, model_name=\"clf_nn_char\")"
   ]
  },
  {
   "cell_type": "code",
   "execution_count": 63,
   "metadata": {
    "id": "Z2lQ9qrayUQK"
   },
   "outputs": [],
   "source": [
    "del clf_nn"
   ]
  },
  {
   "cell_type": "markdown",
   "metadata": {
    "id": "N8AqkvOlAWOf"
   },
   "source": [
    "### **4.5 KNeighborsClassifier**"
   ]
  },
  {
   "cell_type": "code",
   "execution_count": 66,
   "metadata": {
    "id": "lv3JDSb8EQCu"
   },
   "outputs": [],
   "source": [
    "knn=KNeighborsClassifier(algorithm='auto',\n",
    "                     leaf_size=30,\n",
    "                     metric='minkowski',\n",
    "                     metric_params=None, \n",
    "                     n_jobs=1, \n",
    "                     n_neighbors=18,\n",
    "                     p=2,\n",
    "                     weights='uniform')"
   ]
  },
  {
   "cell_type": "code",
   "execution_count": 67,
   "metadata": {
    "id": "U7n-Gx4xU9AU"
   },
   "outputs": [],
   "source": [
    "grid_search_knn = GridSearchCV(knn, \n",
    "                           param_grid,\n",
    "                           cv=StratifiedKFold(n_splits=5, shuffle=True,\n",
    "                                              random_state=42).split(X_train_word, y_train_word), \n",
    "                           verbose=2)"
   ]
  },
  {
   "cell_type": "code",
   "execution_count": 68,
   "metadata": {
    "id": "JGzxAEiLAzaq"
   },
   "outputs": [
    {
     "name": "stdout",
     "output_type": "stream",
     "text": [
      "Fitting 5 folds for each of 1 candidates, totalling 5 fits\n",
      "[CV] END .................................................... total time=  11.3s\n",
      "[CV] END .................................................... total time=   6.7s\n",
      "[CV] END .................................................... total time=   6.1s\n",
      "[CV] END .................................................... total time=   7.1s\n",
      "[CV] END .................................................... total time=   6.5s\n"
     ]
    }
   ],
   "source": [
    "\n",
    "knn_word = grid_search_knn.fit(X_train_word, y_train_word)"
   ]
  },
  {
   "cell_type": "code",
   "execution_count": 69,
   "metadata": {
    "id": "76lbTBq5EQCv"
   },
   "outputs": [
    {
     "name": "stdout",
     "output_type": "stream",
     "text": [
      "Training Set\n",
      "Accuracy: 0.7041432887354337\n",
      "\n",
      "              precision    recall  f1-score   support\n",
      "\n",
      "           0     0.9265    0.1151    0.2048      3067\n",
      "           1     0.6946    0.9955    0.8183      6201\n",
      "\n",
      "    accuracy                         0.7041      9268\n",
      "   macro avg     0.8106    0.5553    0.5115      9268\n",
      "weighted avg     0.7714    0.7041    0.6152      9268\n",
      "\n"
     ]
    },
    {
     "data": {
      "image/png": "[encoded data removed]",
      "text/plain": [
       "<Figure size 432x288 with 2 Axes>"
      ]
     },
     "metadata": {
      "needs_background": "light"
     },
     "output_type": "display_data"
    },
    {
     "name": "stdout",
     "output_type": "stream",
     "text": [
      "\n",
      "Testing Set\n",
      "Accuracy: 0.6900805639476334\n",
      "\n",
      "              precision    recall  f1-score   support\n",
      "\n",
      "           0     0.8864    0.0878    0.1597      1333\n",
      "           1     0.6833    0.9943    0.8100      2639\n",
      "\n",
      "    accuracy                         0.6901      3972\n",
      "   macro avg     0.7848    0.5410    0.4849      3972\n",
      "weighted avg     0.7515    0.6901    0.5918      3972\n",
      "\n"
     ]
    },
    {
     "data": {
      "image/png": "[encoded data removed]",
      "text/plain": [
       "<Figure size 432x288 with 2 Axes>"
      ]
     },
     "metadata": {
      "needs_background": "light"
     },
     "output_type": "display_data"
    },
    {
     "name": "stdout",
     "output_type": "stream",
     "text": [
      "\n"
     ]
    }
   ],
   "source": [
    "evaluate_model_ngrammWord(knn_word, model_name=\"knn_word\")"
   ]
  },
  {
   "cell_type": "code",
   "execution_count": 70,
   "metadata": {
    "id": "dk2jpzHwU-UV"
   },
   "outputs": [],
   "source": [
    "grid_search_knn = GridSearchCV(knn, \n",
    "                           param_grid,\n",
    "                           cv=StratifiedKFold(n_splits=5, shuffle=True,\n",
    "                                              random_state=42).split(X_train_char, y_train_char), \n",
    "                           verbose=2)"
   ]
  },
  {
   "cell_type": "code",
   "execution_count": 71,
   "metadata": {
    "id": "woV5TuSTU-dh"
   },
   "outputs": [
    {
     "name": "stdout",
     "output_type": "stream",
     "text": [
      "Fitting 5 folds for each of 1 candidates, totalling 5 fits\n",
      "[CV] END .................................................... total time=  13.4s\n",
      "[CV] END .................................................... total time=  11.7s\n",
      "[CV] END .................................................... total time=  11.5s\n",
      "[CV] END .................................................... total time=  11.7s\n",
      "[CV] END .................................................... total time=  11.7s\n"
     ]
    }
   ],
   "source": [
    "\n",
    "knn_char = grid_search_knn.fit(X_train_char, y_train_char)"
   ]
  },
  {
   "cell_type": "code",
   "execution_count": 72,
   "metadata": {
    "id": "1fd0rCvmU-ne"
   },
   "outputs": [
    {
     "name": "stdout",
     "output_type": "stream",
     "text": [
      "Training Set\n",
      "Accuracy: 0.6890375485541649\n",
      "\n",
      "              precision    recall  f1-score   support\n",
      "\n",
      "           0     0.8841    0.0857    0.1563      3114\n",
      "           1     0.6825    0.9943    0.8094      6154\n",
      "\n",
      "    accuracy                         0.6890      9268\n",
      "   macro avg     0.7833    0.5400    0.4829      9268\n",
      "weighted avg     0.7502    0.6890    0.5900      9268\n",
      "\n"
     ]
    },
    {
     "data": {
      "image/png": "[encoded data removed]",
      "text/plain": [
       "<Figure size 432x288 with 2 Axes>"
      ]
     },
     "metadata": {
      "needs_background": "light"
     },
     "output_type": "display_data"
    },
    {
     "name": "stdout",
     "output_type": "stream",
     "text": [
      "\n",
      "Testing Set\n",
      "Accuracy: 0.6915911379657603\n",
      "\n",
      "              precision    recall  f1-score   support\n",
      "\n",
      "           0     0.8352    0.0591    0.1104      1286\n",
      "           1     0.6882    0.9944    0.8135      2686\n",
      "\n",
      "    accuracy                         0.6916      3972\n",
      "   macro avg     0.7617    0.5268    0.4619      3972\n",
      "weighted avg     0.7358    0.6916    0.5858      3972\n",
      "\n"
     ]
    },
    {
     "data": {
      "image/png": "[encoded data removed]",
      "text/plain": [
       "<Figure size 432x288 with 2 Axes>"
      ]
     },
     "metadata": {
      "needs_background": "light"
     },
     "output_type": "display_data"
    },
    {
     "name": "stdout",
     "output_type": "stream",
     "text": [
      "\n"
     ]
    }
   ],
   "source": [
    "evaluate_model_ngrammChar(knn_char, model_name=\"knn_char\")"
   ]
  },
  {
   "cell_type": "code",
   "execution_count": 73,
   "metadata": {
    "id": "YUn_xfDEBaSb"
   },
   "outputs": [],
   "source": [
    "del knn"
   ]
  },
  {
   "cell_type": "markdown",
   "metadata": {
    "id": "D5G3DhkMNqrn"
   },
   "source": [
    "# **5. Other Features**"
   ]
  },
  {
   "cell_type": "code",
   "execution_count": 74,
   "metadata": {
    "id": "jEMyD2APTq0o"
   },
   "outputs": [],
   "source": [
    "# #Add Word Tokenizer without Stemming\n",
    "def basic_tokenize(tweet):\n",
    "     \"\"\"Removes punctuation & excess whitespace, sets to lowercase.\n",
    "        Returns a list of tokens.\"\"\"\n",
    "     list_tokens = []\n",
    "     for t in tweet:\n",
    "       sentence = re.sub(r'[^\\w\\s]','',t.lower())\n",
    "       list_tokens.append(nltk.word_tokenize(sentence))\n",
    "     tokens = [item for sublist in list_tokens for item in sublist]\n",
    "     return tokens\n",
    "\n",
    "def other_features(tweet):\n",
    "    \"\"\"This function takes a string and returns a list of features.\n",
    "    These include Sentiment scores, Text and Readability scores,\n",
    "    as well as Twitter specific features\"\"\"\n",
    "    words = basic_tokenize(tweet) #Get text only\n",
    "    syllables = []\n",
    "    for word in words:\n",
    "      syllables.append(textstat.syllable_count(word))\n",
    "\n",
    "    num_chars = sum(len(w) for w in words)\n",
    "    num_chars_total = len(tweet)\n",
    "    num_words = len(words)\n",
    "    num_unique_terms = len(set(words))\n",
    "\n",
    "    avg_syl = []\n",
    "    for s in syllables:\n",
    "      avg_syl.append(int(s+0.001)/int(num_words+0.001))\n",
    "    avg = sum(avg_syl) / len(avg_syl)\n",
    "    ###Modified FK grade, where avg words per sentence is just num words/1\n",
    "    FKRA = round(float(0.39 * float(num_words)/1.0) + float(11.8 * avg) - 15.59,1)\n",
    "    ##Modified FRE score, where sentence fixed to 1\n",
    "    FRE = round(206.835 - 1.015*(float(num_words)/1.0) - (84.6*float(avg)),2)\n",
    "\n",
    "    twitter_objs = []\n",
    "    retweet = 0\n",
    "    if \"rt\" in words:\n",
    "      retweet = 1\n",
    "    features = [FKRA, FRE, avg, num_chars, num_chars_total, num_words,\n",
    "                num_unique_terms,  retweet]\n",
    "    return features\n",
    "\n",
    "\n",
    "def get_feature_array(tweets):\n",
    "  feats = []\n",
    "  for t in tweets:\n",
    "    feats.append(other_features(t))\n",
    "  return np.array(feats)\n",
    "\n",
    "\n",
    "  \n",
    "other_features_names = [\"FKRA\", \"FRE\",\"avg_syl_per_word\", \"num_chars\", \"num_chars_total\", \\\n",
    "                        \"num_words\", \"num_unique_words\", \"is_retweet\"]\n",
    "\n",
    "                       \n",
    "\n",
    "feats = get_feature_array(tweets)"
   ]
  },
  {
   "cell_type": "markdown",
   "metadata": {
    "id": "_M05gIqmUCFp"
   },
   "source": [
    "### **5.1 Adding New Features to Data**"
   ]
  },
  {
   "cell_type": "code",
   "execution_count": 75,
   "metadata": {
    "id": "CHVrujFCUJRC"
   },
   "outputs": [
    {
     "data": {
      "text/plain": [
       "(13240, 19472)"
      ]
     },
     "execution_count": 75,
     "metadata": {},
     "output_type": "execute_result"
    }
   ],
   "source": [
    "M_new_words = np.concatenate([tfidf_words,pos,feats],axis=1)\n",
    "M_new_words.shape\n",
    "\n",
    "M_new_chars = np.concatenate([tfidf_chars,pos,feats],axis=1)\n",
    "M_new_chars.shape"
   ]
  },
  {
   "cell_type": "code",
   "execution_count": 76,
   "metadata": {
    "id": "wJbEphrJV_Sl"
   },
   "outputs": [],
   "source": [
    "X_new_words = pd.DataFrame(M_new_words)\n",
    "X_train_word, X_test_word, y_train_word, y_test_word = train_test_split(X_new_words, y, test_size = 0.3, random_state = 42, shuffle=True)"
   ]
  },
  {
   "cell_type": "code",
   "execution_count": 77,
   "metadata": {},
   "outputs": [],
   "source": [
    "X_new_chars = pd.DataFrame(M_new_chars)\n",
    "X_train_char, X_test_char, y_train_char, y_test_char = train_test_split(X_new_chars, y, test_size = 0.3, random_state = 42, shuffle=True)"
   ]
  },
  {
   "cell_type": "markdown",
   "metadata": {
    "id": "_M05gIqmUCFp"
   },
   "source": [
    "### **5.2 Testing MAchine Learning Models on Data with New Features**\n",
    "\n"
   ]
  },
  {
   "cell_type": "markdown",
   "metadata": {
    "id": "_M05gIqmUCFp"
   },
   "source": [
    "#### **5.2.1 Linear Regression Model**\n",
    "\n"
   ]
  },
  {
   "cell_type": "code",
   "execution_count": 78,
   "metadata": {},
   "outputs": [],
   "source": [
    "c_lr = LogisticRegression(penalty='l2',\n",
    "                            tol=1e-4,\n",
    "                            C=5.0,\n",
    "                            fit_intercept=True,\n",
    "                            class_weight='balanced',\n",
    "                            random_state=0,\n",
    "                            solver='lbfgs',\n",
    "                            max_iter=100,\n",
    "                            multi_class='auto',\n",
    "                            verbose=1,\n",
    "                            n_jobs=-1)"
   ]
  },
  {
   "cell_type": "code",
   "execution_count": 79,
   "metadata": {},
   "outputs": [],
   "source": [
    "param_grid = [{}]\n",
    "grid_search_lr = GridSearchCV(c_lr, \n",
    "                           param_grid,\n",
    "                           cv=StratifiedKFold(n_splits=5, shuffle=True,\n",
    "                                              random_state=42).split(X_train_char, y_train_char), \n",
    "                           verbose=2)"
   ]
  },
  {
   "cell_type": "code",
   "execution_count": 80,
   "metadata": {},
   "outputs": [
    {
     "name": "stdout",
     "output_type": "stream",
     "text": [
      "Fitting 5 folds for each of 1 candidates, totalling 5 fits\n"
     ]
    },
    {
     "name": "stderr",
     "output_type": "stream",
     "text": [
      "[Parallel(n_jobs=-1)]: Using backend LokyBackend with 4 concurrent workers.\n",
      "[Parallel(n_jobs=-1)]: Done   1 out of   1 | elapsed: 59.1min finished\n"
     ]
    },
    {
     "name": "stdout",
     "output_type": "stream",
     "text": [
      "[CV] END .................................................... total time=59.8min\n"
     ]
    },
    {
     "name": "stderr",
     "output_type": "stream",
     "text": [
      "[Parallel(n_jobs=-1)]: Using backend LokyBackend with 4 concurrent workers.\n",
      "[Parallel(n_jobs=-1)]: Done   1 out of   1 | elapsed:  8.6min finished\n"
     ]
    },
    {
     "name": "stdout",
     "output_type": "stream",
     "text": [
      "[CV] END .................................................... total time= 8.6min\n"
     ]
    },
    {
     "name": "stderr",
     "output_type": "stream",
     "text": [
      "[Parallel(n_jobs=-1)]: Using backend LokyBackend with 4 concurrent workers.\n",
      "[Parallel(n_jobs=-1)]: Done   1 out of   1 | elapsed:  8.3min finished\n"
     ]
    },
    {
     "name": "stdout",
     "output_type": "stream",
     "text": [
      "[CV] END .................................................... total time= 8.3min\n"
     ]
    },
    {
     "name": "stderr",
     "output_type": "stream",
     "text": [
      "[Parallel(n_jobs=-1)]: Using backend LokyBackend with 4 concurrent workers.\n",
      "[Parallel(n_jobs=-1)]: Done   1 out of   1 | elapsed:  8.3min finished\n"
     ]
    },
    {
     "name": "stdout",
     "output_type": "stream",
     "text": [
      "[CV] END .................................................... total time= 8.3min\n"
     ]
    },
    {
     "name": "stderr",
     "output_type": "stream",
     "text": [
      "[Parallel(n_jobs=-1)]: Using backend LokyBackend with 4 concurrent workers.\n",
      "[Parallel(n_jobs=-1)]: Done   1 out of   1 | elapsed:  8.2min finished\n"
     ]
    },
    {
     "name": "stdout",
     "output_type": "stream",
     "text": [
      "[CV] END .................................................... total time= 8.2min\n"
     ]
    },
    {
     "name": "stderr",
     "output_type": "stream",
     "text": [
      "[Parallel(n_jobs=-1)]: Using backend LokyBackend with 4 concurrent workers.\n",
      "[Parallel(n_jobs=-1)]: Done   1 out of   1 | elapsed: 11.4min finished\n"
     ]
    }
   ],
   "source": [
    "c_lr_char = grid_search_lr.fit(X_train_char, y_train_char)\n"
   ]
  },
  {
   "cell_type": "code",
   "execution_count": 81,
   "metadata": {},
   "outputs": [
    {
     "name": "stdout",
     "output_type": "stream",
     "text": [
      "Training Set\n",
      "Accuracy: 0.9001942166594734\n",
      "\n",
      "              precision    recall  f1-score   support\n",
      "\n",
      "           0     0.8184    0.8976    0.8562      3067\n",
      "           1     0.9468    0.9015    0.9236      6201\n",
      "\n",
      "    accuracy                         0.9002      9268\n",
      "   macro avg     0.8826    0.8995    0.8899      9268\n",
      "weighted avg     0.9043    0.9002    0.9013      9268\n",
      "\n"
     ]
    },
    {
     "data": {
      "image/png": "[encoded data removed]",
      "text/plain": [
       "<Figure size 432x288 with 2 Axes>"
      ]
     },
     "metadata": {
      "needs_background": "light"
     },
     "output_type": "display_data"
    },
    {
     "name": "stdout",
     "output_type": "stream",
     "text": [
      "\n",
      "Testing Set\n",
      "Accuracy: 0.7155085599194361\n",
      "\n",
      "              precision    recall  f1-score   support\n",
      "\n",
      "           0     0.5718    0.6062    0.5885      1333\n",
      "           1     0.7948    0.7707    0.7826      2639\n",
      "\n",
      "    accuracy                         0.7155      3972\n",
      "   macro avg     0.6833    0.6884    0.6856      3972\n",
      "weighted avg     0.7200    0.7155    0.7175      3972\n",
      "\n"
     ]
    },
    {
     "data": {
      "image/png": "[encoded data removed]",
      "text/plain": [
       "<Figure size 432x288 with 2 Axes>"
      ]
     },
     "metadata": {
      "needs_background": "light"
     },
     "output_type": "display_data"
    },
    {
     "name": "stdout",
     "output_type": "stream",
     "text": [
      "\n"
     ]
    }
   ],
   "source": [
    "evaluate_model_ngrammChar(c_lr_char, model_name=\"lr_chars_newFeatures\")"
   ]
  },
  {
   "cell_type": "code",
   "execution_count": null,
   "metadata": {},
   "outputs": [],
   "source": []
  },
  {
   "cell_type": "markdown",
   "metadata": {
    "id": "_M05gIqmUCFp"
   },
   "source": [
    "#### **5.2.2 Random Forest Classifier**\n",
    "\n"
   ]
  },
  {
   "cell_type": "code",
   "execution_count": 82,
   "metadata": {},
   "outputs": [],
   "source": [
    "clf_rf = RandomForestClassifier(n_estimators=500,\n",
    "                                criterion=\"gini\",\n",
    "                                max_depth=None, \n",
    "                                min_samples_split=2,\n",
    "                                min_samples_leaf=10, \n",
    "                                max_features=\"auto\", \n",
    "                                n_jobs=-1,\n",
    "                                verbose=1,\n",
    "                                random_state=0,\n",
    "                                class_weight='balanced')\n",
    "\n",
    "\n"
   ]
  },
  {
   "cell_type": "code",
   "execution_count": 83,
   "metadata": {},
   "outputs": [],
   "source": [
    "grid_search_rf = GridSearchCV(clf_rf, \n",
    "                           param_grid,\n",
    "                           cv=StratifiedKFold(n_splits=5, shuffle=True,\n",
    "                                              random_state=42).split(X_train_char, y_train_char), \n",
    "                           verbose=2)"
   ]
  },
  {
   "cell_type": "code",
   "execution_count": 84,
   "metadata": {},
   "outputs": [
    {
     "name": "stdout",
     "output_type": "stream",
     "text": [
      "Fitting 5 folds for each of 1 candidates, totalling 5 fits\n"
     ]
    },
    {
     "name": "stderr",
     "output_type": "stream",
     "text": [
      "[Parallel(n_jobs=-1)]: Using backend LokyBackend with 4 concurrent workers.\n",
      "[Parallel(n_jobs=-1)]: Done  42 tasks      | elapsed:   22.6s\n",
      "[Parallel(n_jobs=-1)]: Done 192 tasks      | elapsed:  1.1min\n",
      "[Parallel(n_jobs=-1)]: Done 442 tasks      | elapsed:  2.3min\n",
      "[Parallel(n_jobs=-1)]: Done 500 out of 500 | elapsed:  2.6min finished\n",
      "[Parallel(n_jobs=4)]: Using backend ThreadingBackend with 4 concurrent workers.\n",
      "[Parallel(n_jobs=4)]: Done  42 tasks      | elapsed:    0.0s\n",
      "[Parallel(n_jobs=4)]: Done 192 tasks      | elapsed:    0.1s\n",
      "[Parallel(n_jobs=4)]: Done 442 tasks      | elapsed:    0.3s\n",
      "[Parallel(n_jobs=4)]: Done 500 out of 500 | elapsed:    0.4s finished\n"
     ]
    },
    {
     "name": "stdout",
     "output_type": "stream",
     "text": [
      "[CV] END .................................................... total time= 2.7min\n"
     ]
    },
    {
     "name": "stderr",
     "output_type": "stream",
     "text": [
      "[Parallel(n_jobs=-1)]: Using backend LokyBackend with 4 concurrent workers.\n",
      "[Parallel(n_jobs=-1)]: Done  42 tasks      | elapsed:   18.7s\n",
      "[Parallel(n_jobs=-1)]: Done 192 tasks      | elapsed:  1.0min\n",
      "[Parallel(n_jobs=-1)]: Done 442 tasks      | elapsed:  2.2min\n",
      "[Parallel(n_jobs=-1)]: Done 500 out of 500 | elapsed:  2.5min finished\n",
      "[Parallel(n_jobs=4)]: Using backend ThreadingBackend with 4 concurrent workers.\n",
      "[Parallel(n_jobs=4)]: Done  42 tasks      | elapsed:    0.0s\n",
      "[Parallel(n_jobs=4)]: Done 192 tasks      | elapsed:    0.1s\n",
      "[Parallel(n_jobs=4)]: Done 442 tasks      | elapsed:    0.2s\n",
      "[Parallel(n_jobs=4)]: Done 500 out of 500 | elapsed:    0.3s finished\n"
     ]
    },
    {
     "name": "stdout",
     "output_type": "stream",
     "text": [
      "[CV] END .................................................... total time= 2.6min\n"
     ]
    },
    {
     "name": "stderr",
     "output_type": "stream",
     "text": [
      "[Parallel(n_jobs=-1)]: Using backend LokyBackend with 4 concurrent workers.\n",
      "[Parallel(n_jobs=-1)]: Done  42 tasks      | elapsed:   15.4s\n",
      "[Parallel(n_jobs=-1)]: Done 192 tasks      | elapsed:   56.5s\n",
      "[Parallel(n_jobs=-1)]: Done 442 tasks      | elapsed:  2.1min\n",
      "[Parallel(n_jobs=-1)]: Done 500 out of 500 | elapsed:  2.4min finished\n",
      "[Parallel(n_jobs=4)]: Using backend ThreadingBackend with 4 concurrent workers.\n",
      "[Parallel(n_jobs=4)]: Done  42 tasks      | elapsed:    0.0s\n",
      "[Parallel(n_jobs=4)]: Done 192 tasks      | elapsed:    0.0s\n",
      "[Parallel(n_jobs=4)]: Done 442 tasks      | elapsed:    0.2s\n",
      "[Parallel(n_jobs=4)]: Done 500 out of 500 | elapsed:    0.3s finished\n"
     ]
    },
    {
     "name": "stdout",
     "output_type": "stream",
     "text": [
      "[CV] END .................................................... total time= 2.4min\n"
     ]
    },
    {
     "name": "stderr",
     "output_type": "stream",
     "text": [
      "[Parallel(n_jobs=-1)]: Using backend LokyBackend with 4 concurrent workers.\n",
      "[Parallel(n_jobs=-1)]: Done  42 tasks      | elapsed:   16.2s\n",
      "[Parallel(n_jobs=-1)]: Done 192 tasks      | elapsed:  1.0min\n",
      "[Parallel(n_jobs=-1)]: Done 442 tasks      | elapsed:  2.3min\n",
      "[Parallel(n_jobs=-1)]: Done 500 out of 500 | elapsed:  2.5min finished\n",
      "[Parallel(n_jobs=4)]: Using backend ThreadingBackend with 4 concurrent workers.\n",
      "[Parallel(n_jobs=4)]: Done  42 tasks      | elapsed:    0.0s\n",
      "[Parallel(n_jobs=4)]: Done 192 tasks      | elapsed:    0.1s\n",
      "[Parallel(n_jobs=4)]: Done 442 tasks      | elapsed:    0.2s\n",
      "[Parallel(n_jobs=4)]: Done 500 out of 500 | elapsed:    0.3s finished\n"
     ]
    },
    {
     "name": "stdout",
     "output_type": "stream",
     "text": [
      "[CV] END .................................................... total time= 2.6min\n"
     ]
    },
    {
     "name": "stderr",
     "output_type": "stream",
     "text": [
      "[Parallel(n_jobs=-1)]: Using backend LokyBackend with 4 concurrent workers.\n",
      "[Parallel(n_jobs=-1)]: Done  42 tasks      | elapsed:   16.7s\n",
      "[Parallel(n_jobs=-1)]: Done 192 tasks      | elapsed:  1.1min\n",
      "[Parallel(n_jobs=-1)]: Done 442 tasks      | elapsed:  2.3min\n",
      "[Parallel(n_jobs=-1)]: Done 500 out of 500 | elapsed:  2.6min finished\n",
      "[Parallel(n_jobs=4)]: Using backend ThreadingBackend with 4 concurrent workers.\n",
      "[Parallel(n_jobs=4)]: Done  42 tasks      | elapsed:    0.0s\n",
      "[Parallel(n_jobs=4)]: Done 192 tasks      | elapsed:    0.1s\n",
      "[Parallel(n_jobs=4)]: Done 442 tasks      | elapsed:    0.2s\n",
      "[Parallel(n_jobs=4)]: Done 500 out of 500 | elapsed:    0.3s finished\n"
     ]
    },
    {
     "name": "stdout",
     "output_type": "stream",
     "text": [
      "[CV] END .................................................... total time= 2.7min\n"
     ]
    },
    {
     "name": "stderr",
     "output_type": "stream",
     "text": [
      "[Parallel(n_jobs=-1)]: Using backend ThreadingBackend with 4 concurrent workers.\n",
      "[Parallel(n_jobs=-1)]: Done  42 tasks      | elapsed:   10.1s\n",
      "[Parallel(n_jobs=-1)]: Done 192 tasks      | elapsed:   46.5s\n",
      "[Parallel(n_jobs=-1)]: Done 442 tasks      | elapsed:  1.8min\n",
      "[Parallel(n_jobs=-1)]: Done 500 out of 500 | elapsed:  2.1min finished\n"
     ]
    }
   ],
   "source": [
    "clf_rf_char= grid_search_rf.fit(X_train_char, y_train_char)"
   ]
  },
  {
   "cell_type": "code",
   "execution_count": 85,
   "metadata": {},
   "outputs": [
    {
     "name": "stderr",
     "output_type": "stream",
     "text": [
      "[Parallel(n_jobs=4)]: Using backend ThreadingBackend with 4 concurrent workers.\n",
      "[Parallel(n_jobs=4)]: Done  42 tasks      | elapsed:    0.0s\n",
      "[Parallel(n_jobs=4)]: Done 192 tasks      | elapsed:    0.5s\n",
      "[Parallel(n_jobs=4)]: Done 442 tasks      | elapsed:    1.2s\n",
      "[Parallel(n_jobs=4)]: Done 500 out of 500 | elapsed:    1.4s finished\n"
     ]
    },
    {
     "name": "stdout",
     "output_type": "stream",
     "text": [
      "Training Set\n",
      "Accuracy: 0.8944756150194216\n",
      "\n",
      "              precision    recall  f1-score   support\n",
      "\n",
      "           0     0.8775    0.7917    0.8324      3067\n",
      "           1     0.9017    0.9453    0.9230      6201\n",
      "\n",
      "    accuracy                         0.8945      9268\n",
      "   macro avg     0.8896    0.8685    0.8777      9268\n",
      "weighted avg     0.8937    0.8945    0.8930      9268\n",
      "\n"
     ]
    },
    {
     "name": "stderr",
     "output_type": "stream",
     "text": [
      "[Parallel(n_jobs=4)]: Using backend ThreadingBackend with 4 concurrent workers.\n",
      "[Parallel(n_jobs=4)]: Done  42 tasks      | elapsed:    0.0s\n",
      "[Parallel(n_jobs=4)]: Done 192 tasks      | elapsed:    0.5s\n",
      "[Parallel(n_jobs=4)]: Done 442 tasks      | elapsed:    1.2s\n",
      "[Parallel(n_jobs=4)]: Done 500 out of 500 | elapsed:    1.4s finished\n"
     ]
    },
    {
     "data": {
      "image/png": "[encoded data removed]",
      "text/plain": [
       "<Figure size 432x288 with 2 Axes>"
      ]
     },
     "metadata": {
      "needs_background": "light"
     },
     "output_type": "display_data"
    },
    {
     "name": "stdout",
     "output_type": "stream",
     "text": [
      "\n"
     ]
    },
    {
     "name": "stderr",
     "output_type": "stream",
     "text": [
      "[Parallel(n_jobs=4)]: Using backend ThreadingBackend with 4 concurrent workers.\n",
      "[Parallel(n_jobs=4)]: Done  42 tasks      | elapsed:    0.0s\n",
      "[Parallel(n_jobs=4)]: Done 192 tasks      | elapsed:    0.2s\n",
      "[Parallel(n_jobs=4)]: Done 442 tasks      | elapsed:    0.5s\n",
      "[Parallel(n_jobs=4)]: Done 500 out of 500 | elapsed:    0.6s finished\n"
     ]
    },
    {
     "name": "stdout",
     "output_type": "stream",
     "text": [
      "Testing Set\n",
      "Accuracy: 0.7532729103726082\n",
      "\n",
      "              precision    recall  f1-score   support\n",
      "\n",
      "           0     0.6660    0.5311    0.5910      1333\n",
      "           1     0.7851    0.8655    0.8234      2639\n",
      "\n",
      "    accuracy                         0.7533      3972\n",
      "   macro avg     0.7256    0.6983    0.7072      3972\n",
      "weighted avg     0.7452    0.7533    0.7454      3972\n",
      "\n"
     ]
    },
    {
     "name": "stderr",
     "output_type": "stream",
     "text": [
      "[Parallel(n_jobs=4)]: Using backend ThreadingBackend with 4 concurrent workers.\n",
      "[Parallel(n_jobs=4)]: Done  42 tasks      | elapsed:    0.0s\n",
      "[Parallel(n_jobs=4)]: Done 192 tasks      | elapsed:    0.2s\n",
      "[Parallel(n_jobs=4)]: Done 442 tasks      | elapsed:    0.5s\n",
      "[Parallel(n_jobs=4)]: Done 500 out of 500 | elapsed:    0.6s finished\n"
     ]
    },
    {
     "data": {
      "image/png": "[encoded data removed]",
      "text/plain": [
       "<Figure size 432x288 with 2 Axes>"
      ]
     },
     "metadata": {
      "needs_background": "light"
     },
     "output_type": "display_data"
    },
    {
     "name": "stdout",
     "output_type": "stream",
     "text": [
      "\n"
     ]
    }
   ],
   "source": [
    "evaluate_model_ngrammChar(clf_rf_char, model_name=\"clf_rf_char_newFeatures\")"
   ]
  },
  {
   "cell_type": "markdown",
   "metadata": {
    "id": "_M05gIqmUCFp"
   },
   "source": [
    "#### **5.2.2 Neural Network**\n",
    "\n"
   ]
  },
  {
   "cell_type": "code",
   "execution_count": 87,
   "metadata": {},
   "outputs": [],
   "source": [
    "clf_nn = MLPClassifier(alpha=1e-5,\n",
    "                       hidden_layer_sizes=(150,100,50),\n",
    "                       max_iter=300,\n",
    "                       activation = 'relu',\n",
    "                       solver='adam',\n",
    "                       random_state=1)"
   ]
  },
  {
   "cell_type": "code",
   "execution_count": 88,
   "metadata": {},
   "outputs": [],
   "source": [
    "grid_search_nn = GridSearchCV(clf_nn, \n",
    "                           param_grid,\n",
    "                           cv=StratifiedKFold(n_splits=5, shuffle=True,\n",
    "                                              random_state=42).split(X_train_char, y_train_char), \n",
    "                           verbose=2)\n"
   ]
  },
  {
   "cell_type": "code",
   "execution_count": 89,
   "metadata": {},
   "outputs": [
    {
     "name": "stdout",
     "output_type": "stream",
     "text": [
      "Fitting 5 folds for each of 1 candidates, totalling 5 fits\n",
      "[CV] END .................................................... total time= 8.0min\n",
      "[CV] END .................................................... total time=32.7min\n",
      "[CV] END .................................................... total time= 8.5min\n",
      "[CV] END .................................................... total time=14.0min\n",
      "[CV] END .................................................... total time=11.2min\n"
     ]
    }
   ],
   "source": [
    "clf_nn_char = grid_search_nn.fit(X_train_char, y_train_char)\n"
   ]
  },
  {
   "cell_type": "code",
   "execution_count": 90,
   "metadata": {},
   "outputs": [
    {
     "name": "stdout",
     "output_type": "stream",
     "text": [
      "Training Set\n",
      "Accuracy: 0.9974104445403539\n",
      "\n",
      "              precision    recall  f1-score   support\n",
      "\n",
      "           0     0.9958    0.9964    0.9961      3067\n",
      "           1     0.9982    0.9979    0.9981      6201\n",
      "\n",
      "    accuracy                         0.9974      9268\n",
      "   macro avg     0.9970    0.9972    0.9971      9268\n",
      "weighted avg     0.9974    0.9974    0.9974      9268\n",
      "\n"
     ]
    },
    {
     "data": {
      "image/png": "[encoded data removed]",
      "text/plain": [
       "<Figure size 432x288 with 2 Axes>"
      ]
     },
     "metadata": {
      "needs_background": "light"
     },
     "output_type": "display_data"
    },
    {
     "name": "stdout",
     "output_type": "stream",
     "text": [
      "\n",
      "Testing Set\n",
      "Accuracy: 0.7079556898288016\n",
      "\n",
      "              precision    recall  f1-score   support\n",
      "\n",
      "           0     0.5696    0.5311    0.5497      1333\n",
      "           1     0.7710    0.7973    0.7839      2639\n",
      "\n",
      "    accuracy                         0.7080      3972\n",
      "   macro avg     0.6703    0.6642    0.6668      3972\n",
      "weighted avg     0.7034    0.7080    0.7053      3972\n",
      "\n"
     ]
    },
    {
     "data": {
      "image/png": "[encoded data removed]",
      "text/plain": [
       "<Figure size 432x288 with 2 Axes>"
      ]
     },
     "metadata": {
      "needs_background": "light"
     },
     "output_type": "display_data"
    },
    {
     "name": "stdout",
     "output_type": "stream",
     "text": [
      "\n"
     ]
    }
   ],
   "source": [
    "evaluate_model_ngrammChar(clf_nn_char, model_name=\"clf_nn_char_newFeatures\")"
   ]
  },
  {
   "cell_type": "markdown",
   "metadata": {
    "id": "avffFQxr_Y3i"
   },
   "source": [
    "### **5.2 TF-IDF without stopwords**"
   ]
  },
  {
   "cell_type": "code",
   "execution_count": 91,
   "metadata": {
    "id": "xuYH5P5h_Xsi"
   },
   "outputs": [],
   "source": [
    "tfidf_char_no_stopwords = TfidfVectorizer(\n",
    "    analyzer='char',\n",
    "    preprocessor=preprocess,\n",
    "    ngram_range=(2, 6),\n",
    "    use_idf=True,\n",
    "    smooth_idf=False,\n",
    "    norm=None,\n",
    "    decode_error='replace',\n",
    "    max_features=10000,\n",
    "    min_df=5,\n",
    "    max_df=0.75)"
   ]
  },
  {
   "cell_type": "code",
   "execution_count": 92,
   "metadata": {
    "id": "hTqkaPzz_5dk"
   },
   "outputs": [],
   "source": [
    "#Construct tfidf matrix and get relevant scores\n",
    "tfidf =tfidf_char_no_stopwords.fit_transform(tweets).toarray()\n",
    "vocab = {v:i for i, v in enumerate(tfidf_char_no_stopwords.get_feature_names())}\n",
    "idf_vals = tfidf_char_no_stopwords.idf_\n",
    "idf_dict = {i:idf_vals[i] for i in vocab.values()} #keys are indices; values are IDF scores\n"
   ]
  },
  {
   "cell_type": "code",
   "execution_count": 93,
   "metadata": {
    "id": "EX8U6lyW_5o4"
   },
   "outputs": [],
   "source": [
    "array = np.concatenate([tfidf,pos],axis=1)"
   ]
  },
  {
   "cell_type": "code",
   "execution_count": 94,
   "metadata": {
    "id": "1HCa_yzV_5y-"
   },
   "outputs": [
    {
     "data": {
      "text/plain": [
       "(13240, 14464)"
      ]
     },
     "execution_count": 94,
     "metadata": {},
     "output_type": "execute_result"
    }
   ],
   "source": [
    "array.shape"
   ]
  },
  {
   "cell_type": "code",
   "execution_count": 95,
   "metadata": {
    "id": "Mzrrt-LoAmL_"
   },
   "outputs": [],
   "source": [
    "X_new_noStopWords = pd.DataFrame(array)\n",
    "X_train_char, X_test_char, y_train_char, y_test_char = train_test_split(X_new_noStopWords, y, test_size = 0.3, random_state = 42, shuffle=True)"
   ]
  },
  {
   "cell_type": "code",
   "execution_count": 96,
   "metadata": {},
   "outputs": [],
   "source": [
    "clf_nn = MLPClassifier(alpha=1e-5,\n",
    "                       hidden_layer_sizes=(150,100,50),\n",
    "                       max_iter=300,\n",
    "                       activation = 'relu',\n",
    "                       solver='adam',\n",
    "                       random_state=1)\n"
   ]
  },
  {
   "cell_type": "code",
   "execution_count": 97,
   "metadata": {
    "id": "V0FH8DvkAvJv"
   },
   "outputs": [],
   "source": [
    "grid_search_nn = GridSearchCV(clf_nn, \n",
    "                           param_grid,\n",
    "                           cv=StratifiedKFold(n_splits=5, shuffle=True,\n",
    "                                              random_state=42).split(X_train_char, y_train_char), \n",
    "                           verbose=2)\n",
    "\n",
    "\n"
   ]
  },
  {
   "cell_type": "code",
   "execution_count": 98,
   "metadata": {
    "id": "GkviYvxrAvPd"
   },
   "outputs": [
    {
     "name": "stdout",
     "output_type": "stream",
     "text": [
      "Fitting 5 folds for each of 1 candidates, totalling 5 fits\n",
      "[CV] END .................................................... total time= 8.9min\n",
      "[CV] END .................................................... total time= 7.7min\n",
      "[CV] END .................................................... total time= 8.8min\n",
      "[CV] END .................................................... total time=10.2min\n",
      "[CV] END .................................................... total time=16.3min\n"
     ]
    }
   ],
   "source": [
    "clf_nn_chars = grid_search_nn.fit(X_train_char, y_train_char)"
   ]
  },
  {
   "cell_type": "code",
   "execution_count": 99,
   "metadata": {
    "id": "vDZYfd-pAvVA"
   },
   "outputs": [
    {
     "name": "stdout",
     "output_type": "stream",
     "text": [
      "Training Set\n",
      "Accuracy: 0.9968709538195943\n",
      "\n",
      "              precision    recall  f1-score   support\n",
      "\n",
      "           0     0.9980    0.9925    0.9953      3067\n",
      "           1     0.9963    0.9990    0.9977      6201\n",
      "\n",
      "    accuracy                         0.9969      9268\n",
      "   macro avg     0.9972    0.9958    0.9965      9268\n",
      "weighted avg     0.9969    0.9969    0.9969      9268\n",
      "\n"
     ]
    },
    {
     "data": {
      "image/png": "[encoded data removed]",
      "text/plain": [
       "<Figure size 432x288 with 2 Axes>"
      ]
     },
     "metadata": {
      "needs_background": "light"
     },
     "output_type": "display_data"
    },
    {
     "name": "stdout",
     "output_type": "stream",
     "text": [
      "\n",
      "Testing Set\n",
      "Accuracy: 0.7293554884189325\n",
      "\n",
      "              precision    recall  f1-score   support\n",
      "\n",
      "           0     0.6282    0.4741    0.5404      1333\n",
      "           1     0.7637    0.8583    0.8082      2639\n",
      "\n",
      "    accuracy                         0.7294      3972\n",
      "   macro avg     0.6959    0.6662    0.6743      3972\n",
      "weighted avg     0.7182    0.7294    0.7183      3972\n",
      "\n"
     ]
    },
    {
     "data": {
      "image/png": "[encoded data removed]",
      "text/plain": [
       "<Figure size 432x288 with 2 Axes>"
      ]
     },
     "metadata": {
      "needs_background": "light"
     },
     "output_type": "display_data"
    },
    {
     "name": "stdout",
     "output_type": "stream",
     "text": [
      "\n"
     ]
    }
   ],
   "source": [
    "evaluate_model_ngrammChar(clf_nn_chars, model_name=\"clf_nn_chars_noStopWords\")"
   ]
  },
  {
   "cell_type": "code",
   "execution_count": null,
   "metadata": {
    "id": "5B5xWgLEsW_6"
   },
   "outputs": [],
   "source": []
  },
  {
   "cell_type": "code",
   "execution_count": 100,
   "metadata": {
    "id": "NXr0nSA8sXQW"
   },
   "outputs": [],
   "source": [
    "clf_rf = RandomForestClassifier(n_estimators=500,\n",
    "                                criterion=\"gini\",\n",
    "                                max_depth=None, \n",
    "                                min_samples_split=2,\n",
    "                                min_samples_leaf=10, \n",
    "                                max_features=\"auto\", \n",
    "                                n_jobs=-1,\n",
    "                                verbose=1,\n",
    "                                random_state=0,\n",
    "                                class_weight='balanced')"
   ]
  },
  {
   "cell_type": "code",
   "execution_count": 101,
   "metadata": {
    "id": "xaXdoukasXc-"
   },
   "outputs": [],
   "source": [
    "grid_search_rf = GridSearchCV(clf_rf, \n",
    "                           param_grid,\n",
    "                           cv=StratifiedKFold(n_splits=5, shuffle=True,\n",
    "                                              random_state=42).split(X_train_char, y_train_char), \n",
    "                           verbose=2)"
   ]
  },
  {
   "cell_type": "code",
   "execution_count": 102,
   "metadata": {
    "id": "7sc0LppbsXl2"
   },
   "outputs": [
    {
     "name": "stdout",
     "output_type": "stream",
     "text": [
      "Fitting 5 folds for each of 1 candidates, totalling 5 fits\n"
     ]
    },
    {
     "name": "stderr",
     "output_type": "stream",
     "text": [
      "[Parallel(n_jobs=-1)]: Using backend LokyBackend with 4 concurrent workers.\n",
      "[Parallel(n_jobs=-1)]: Done  42 tasks      | elapsed:   40.5s\n",
      "[Parallel(n_jobs=-1)]: Done 192 tasks      | elapsed:  1.6min\n",
      "[Parallel(n_jobs=-1)]: Done 442 tasks      | elapsed:  3.1min\n",
      "[Parallel(n_jobs=-1)]: Done 500 out of 500 | elapsed:  3.4min finished\n",
      "[Parallel(n_jobs=4)]: Using backend ThreadingBackend with 4 concurrent workers.\n",
      "[Parallel(n_jobs=4)]: Done  42 tasks      | elapsed:    0.0s\n",
      "[Parallel(n_jobs=4)]: Done 192 tasks      | elapsed:    0.4s\n",
      "[Parallel(n_jobs=4)]: Done 442 tasks      | elapsed:    0.9s\n",
      "[Parallel(n_jobs=4)]: Done 500 out of 500 | elapsed:    1.0s finished\n"
     ]
    },
    {
     "name": "stdout",
     "output_type": "stream",
     "text": [
      "[CV] END .................................................... total time= 4.2min\n"
     ]
    },
    {
     "name": "stderr",
     "output_type": "stream",
     "text": [
      "[Parallel(n_jobs=-1)]: Using backend LokyBackend with 4 concurrent workers.\n",
      "[Parallel(n_jobs=-1)]: Done  42 tasks      | elapsed:   30.0s\n",
      "[Parallel(n_jobs=-1)]: Done 192 tasks      | elapsed:  1.4min\n",
      "[Parallel(n_jobs=-1)]: Done 442 tasks      | elapsed:  3.1min\n",
      "[Parallel(n_jobs=-1)]: Done 500 out of 500 | elapsed:  3.4min finished\n",
      "[Parallel(n_jobs=4)]: Using backend ThreadingBackend with 4 concurrent workers.\n",
      "[Parallel(n_jobs=4)]: Done  42 tasks      | elapsed:    0.0s\n",
      "[Parallel(n_jobs=4)]: Done 192 tasks      | elapsed:    0.1s\n",
      "[Parallel(n_jobs=4)]: Done 442 tasks      | elapsed:    0.3s\n",
      "[Parallel(n_jobs=4)]: Done 500 out of 500 | elapsed:    0.4s finished\n"
     ]
    },
    {
     "name": "stdout",
     "output_type": "stream",
     "text": [
      "[CV] END .................................................... total time= 3.5min\n"
     ]
    },
    {
     "name": "stderr",
     "output_type": "stream",
     "text": [
      "[Parallel(n_jobs=-1)]: Using backend LokyBackend with 4 concurrent workers.\n",
      "[Parallel(n_jobs=-1)]: Done  42 tasks      | elapsed:   23.6s\n",
      "[Parallel(n_jobs=-1)]: Done 192 tasks      | elapsed:  1.2min\n",
      "[Parallel(n_jobs=-1)]: Done 442 tasks      | elapsed:  2.7min\n",
      "[Parallel(n_jobs=-1)]: Done 500 out of 500 | elapsed:  3.1min finished\n",
      "[Parallel(n_jobs=4)]: Using backend ThreadingBackend with 4 concurrent workers.\n",
      "[Parallel(n_jobs=4)]: Done  42 tasks      | elapsed:    0.0s\n",
      "[Parallel(n_jobs=4)]: Done 192 tasks      | elapsed:    0.3s\n",
      "[Parallel(n_jobs=4)]: Done 442 tasks      | elapsed:    0.8s\n",
      "[Parallel(n_jobs=4)]: Done 500 out of 500 | elapsed:    0.9s finished\n"
     ]
    },
    {
     "name": "stdout",
     "output_type": "stream",
     "text": [
      "[CV] END .................................................... total time= 3.2min\n"
     ]
    },
    {
     "name": "stderr",
     "output_type": "stream",
     "text": [
      "[Parallel(n_jobs=-1)]: Using backend LokyBackend with 4 concurrent workers.\n",
      "[Parallel(n_jobs=-1)]: Done  42 tasks      | elapsed:   28.9s\n",
      "[Parallel(n_jobs=-1)]: Done 192 tasks      | elapsed:  1.4min\n",
      "[Parallel(n_jobs=-1)]: Done 442 tasks      | elapsed:  2.8min\n",
      "[Parallel(n_jobs=-1)]: Done 500 out of 500 | elapsed:  3.2min finished\n",
      "[Parallel(n_jobs=4)]: Using backend ThreadingBackend with 4 concurrent workers.\n",
      "[Parallel(n_jobs=4)]: Done  42 tasks      | elapsed:    0.0s\n",
      "[Parallel(n_jobs=4)]: Done 192 tasks      | elapsed:    0.1s\n",
      "[Parallel(n_jobs=4)]: Done 442 tasks      | elapsed:    0.3s\n",
      "[Parallel(n_jobs=4)]: Done 500 out of 500 | elapsed:    0.3s finished\n"
     ]
    },
    {
     "name": "stdout",
     "output_type": "stream",
     "text": [
      "[CV] END .................................................... total time= 3.3min\n"
     ]
    },
    {
     "name": "stderr",
     "output_type": "stream",
     "text": [
      "[Parallel(n_jobs=-1)]: Using backend LokyBackend with 4 concurrent workers.\n",
      "[Parallel(n_jobs=-1)]: Done  42 tasks      | elapsed:   26.2s\n",
      "[Parallel(n_jobs=-1)]: Done 192 tasks      | elapsed:  1.3min\n",
      "[Parallel(n_jobs=-1)]: Done 442 tasks      | elapsed:  2.8min\n",
      "[Parallel(n_jobs=-1)]: Done 500 out of 500 | elapsed:  3.2min finished\n",
      "[Parallel(n_jobs=4)]: Using backend ThreadingBackend with 4 concurrent workers.\n",
      "[Parallel(n_jobs=4)]: Done  42 tasks      | elapsed:    0.0s\n",
      "[Parallel(n_jobs=4)]: Done 192 tasks      | elapsed:    0.2s\n",
      "[Parallel(n_jobs=4)]: Done 442 tasks      | elapsed:    0.4s\n",
      "[Parallel(n_jobs=4)]: Done 500 out of 500 | elapsed:    0.5s finished\n"
     ]
    },
    {
     "name": "stdout",
     "output_type": "stream",
     "text": [
      "[CV] END .................................................... total time= 3.3min\n"
     ]
    },
    {
     "name": "stderr",
     "output_type": "stream",
     "text": [
      "[Parallel(n_jobs=-1)]: Using backend ThreadingBackend with 4 concurrent workers.\n",
      "[Parallel(n_jobs=-1)]: Done  42 tasks      | elapsed:   15.9s\n",
      "[Parallel(n_jobs=-1)]: Done 192 tasks      | elapsed:  1.1min\n",
      "[Parallel(n_jobs=-1)]: Done 442 tasks      | elapsed:  2.4min\n",
      "[Parallel(n_jobs=-1)]: Done 500 out of 500 | elapsed:  2.7min finished\n"
     ]
    }
   ],
   "source": [
    "clf_rf_chars= grid_search_rf.fit(X_train_char, y_train_char)"
   ]
  },
  {
   "cell_type": "code",
   "execution_count": 103,
   "metadata": {
    "id": "XwhqwGT2yiL_"
   },
   "outputs": [
    {
     "name": "stderr",
     "output_type": "stream",
     "text": [
      "[Parallel(n_jobs=4)]: Using backend ThreadingBackend with 4 concurrent workers.\n",
      "[Parallel(n_jobs=4)]: Done  42 tasks      | elapsed:    0.1s\n",
      "[Parallel(n_jobs=4)]: Done 192 tasks      | elapsed:    0.5s\n",
      "[Parallel(n_jobs=4)]: Done 442 tasks      | elapsed:    1.4s\n",
      "[Parallel(n_jobs=4)]: Done 500 out of 500 | elapsed:    1.6s finished\n"
     ]
    },
    {
     "name": "stdout",
     "output_type": "stream",
     "text": [
      "Training Set\n",
      "Accuracy: 0.8952309020284851\n",
      "\n",
      "              precision    recall  f1-score   support\n",
      "\n",
      "           0     0.8748    0.7975    0.8344      3067\n",
      "           1     0.9040    0.9436    0.9234      6201\n",
      "\n",
      "    accuracy                         0.8952      9268\n",
      "   macro avg     0.8894    0.8705    0.8789      9268\n",
      "weighted avg     0.8944    0.8952    0.8939      9268\n",
      "\n"
     ]
    },
    {
     "name": "stderr",
     "output_type": "stream",
     "text": [
      "[Parallel(n_jobs=4)]: Using backend ThreadingBackend with 4 concurrent workers.\n",
      "[Parallel(n_jobs=4)]: Done  42 tasks      | elapsed:    0.0s\n",
      "[Parallel(n_jobs=4)]: Done 192 tasks      | elapsed:    0.5s\n",
      "[Parallel(n_jobs=4)]: Done 442 tasks      | elapsed:    1.4s\n",
      "[Parallel(n_jobs=4)]: Done 500 out of 500 | elapsed:    1.6s finished\n"
     ]
    },
    {
     "data": {
      "image/png": "[encoded data removed]",
      "text/plain": [
       "<Figure size 432x288 with 2 Axes>"
      ]
     },
     "metadata": {
      "needs_background": "light"
     },
     "output_type": "display_data"
    },
    {
     "name": "stdout",
     "output_type": "stream",
     "text": [
      "\n"
     ]
    },
    {
     "name": "stderr",
     "output_type": "stream",
     "text": [
      "[Parallel(n_jobs=4)]: Using backend ThreadingBackend with 4 concurrent workers.\n",
      "[Parallel(n_jobs=4)]: Done  42 tasks      | elapsed:    0.1s\n",
      "[Parallel(n_jobs=4)]: Done 192 tasks      | elapsed:    0.7s\n",
      "[Parallel(n_jobs=4)]: Done 442 tasks      | elapsed:    1.5s\n",
      "[Parallel(n_jobs=4)]: Done 500 out of 500 | elapsed:    1.7s finished\n"
     ]
    },
    {
     "name": "stdout",
     "output_type": "stream",
     "text": [
      "Testing Set\n",
      "Accuracy: 0.751007049345418\n",
      "\n",
      "              precision    recall  f1-score   support\n",
      "\n",
      "           0     0.6575    0.5386    0.5922      1333\n",
      "           1     0.7865    0.8583    0.8208      2639\n",
      "\n",
      "    accuracy                         0.7510      3972\n",
      "   macro avg     0.7220    0.6985    0.7065      3972\n",
      "weighted avg     0.7432    0.7510    0.7441      3972\n",
      "\n"
     ]
    },
    {
     "name": "stderr",
     "output_type": "stream",
     "text": [
      "[Parallel(n_jobs=4)]: Using backend ThreadingBackend with 4 concurrent workers.\n",
      "[Parallel(n_jobs=4)]: Done  42 tasks      | elapsed:    0.0s\n",
      "[Parallel(n_jobs=4)]: Done 192 tasks      | elapsed:    0.5s\n",
      "[Parallel(n_jobs=4)]: Done 442 tasks      | elapsed:    1.3s\n",
      "[Parallel(n_jobs=4)]: Done 500 out of 500 | elapsed:    1.4s finished\n"
     ]
    },
    {
     "data": {
      "image/png": "[encoded data removed]",
      "text/plain": [
       "<Figure size 432x288 with 2 Axes>"
      ]
     },
     "metadata": {
      "needs_background": "light"
     },
     "output_type": "display_data"
    },
    {
     "name": "stdout",
     "output_type": "stream",
     "text": [
      "\n"
     ]
    }
   ],
   "source": [
    "evaluate_model_ngrammChar(clf_rf_chars, model_name=\"clf_rf_chars_noStopWords\")"
   ]
  }
 ],
 "metadata": {
  "accelerator": "GPU",
  "colab": {
   "collapsed_sections": [],
   "name": " \"hate_speech_snlp.ipynb\"",
   "provenance": [],
   "toc_visible": true
  },
  "kernelspec": {
   "display_name": "Python 3",
   "language": "python",
   "name": "python3"
  },
  "language_info": {
   "codemirror_mode": {
    "name": "ipython",
    "version": 3
   },
   "file_extension": ".py",
   "mimetype": "text/x-python",
   "name": "python",
   "nbconvert_exporter": "python",
   "pygments_lexer": "ipython3",
   "version": "3.8.5"
  }
 },
 "nbformat": 4,
 "nbformat_minor": 1
}
